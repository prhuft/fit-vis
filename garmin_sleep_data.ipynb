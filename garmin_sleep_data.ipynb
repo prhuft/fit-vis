{
 "cells": [
  {
   "cell_type": "markdown",
   "id": "f83d43ab-41f4-448b-b669-8b748cb9926e",
   "metadata": {},
   "source": [
    "Notebook for viewing detailed activity data.\n",
    "\n",
    "Data obtained by requesting a comprehensive data export from Garmin (https://www.garmin.com/en-US/account/datamanagement/exportdata)."
   ]
  },
  {
   "cell_type": "code",
   "execution_count": 136,
   "id": "453a2ad9-ad25-4b56-877b-5eab6168e782",
   "metadata": {},
   "outputs": [],
   "source": [
    "import matplotlib.pyplot as plt\n",
    "import numpy as np\n",
    "import csv\n",
    "import os, sys\n",
    "import pandas as pd\n",
    "import json\n",
    "from datetime import datetime as dt\n",
    "\n",
    "datadir = 'data'\n",
    "\n",
    "def digital_time_to_minutes(timestr):\n",
    "    to_minutes = [60,1,1/60]\n",
    "    hrs,mins,secs = [conv*float(x) for x,conv in zip(timestr.split(':'), to_minutes)]\n",
    "    minutes = hrs + mins + secs\n",
    "    return minutes\n",
    "\n",
    "def get_minutes_difference(timestr1, timestr2):\n",
    "    \"\"\"\n",
    "    for two timestamp strings hh:mm:ss.f, compute their difference in minutes\n",
    "\n",
    "    returns minutes as a float\n",
    "    \"\"\"\n",
    "    diff = dt.strptime(timestr2, '%H:%M:%S.%f') - dt.strptime(timestr1, '%H:%M:%S.%f')\n",
    "    return int(diff.seconds/60 + 0.5)"
   ]
  },
  {
   "cell_type": "markdown",
   "id": "f8568654-a87e-4060-824a-d77ada877535",
   "metadata": {},
   "source": [
    "## explore Garmin data file structure - run first"
   ]
  },
  {
   "cell_type": "code",
   "execution_count": 3,
   "id": "9a93452d-6a0d-4e00-aa91-d98c7bc701a8",
   "metadata": {},
   "outputs": [
    {
     "data": {
      "text/plain": [
       "['Activities_20250110.csv', 'garmin_data_20250114', 'garmin_data_20250114.zip']"
      ]
     },
     "execution_count": 3,
     "metadata": {},
     "output_type": "execute_result"
    }
   ],
   "source": [
    "os.listdir('./data/')"
   ]
  },
  {
   "cell_type": "code",
   "execution_count": 4,
   "id": "c9138e7b-64ec-477b-af4f-aacbd4a9792a",
   "metadata": {},
   "outputs": [
    {
     "data": {
      "text/plain": [
       "['DI-Connect-Aggregator',\n",
       " 'DI-Connect-Fitness',\n",
       " 'DI-Connect-Metrics',\n",
       " 'DI-Connect-Uploaded-Files',\n",
       " 'DI-Connect-User',\n",
       " 'DI-Connect-Wellness',\n",
       " 'DI-GOLF']"
      ]
     },
     "execution_count": 4,
     "metadata": {},
     "output_type": "execute_result"
    }
   ],
   "source": [
    "connect_dir = './data/garmin_data_20250114/DI_CONNECT'\n",
    "os.listdir(connect_dir)"
   ]
  },
  {
   "cell_type": "markdown",
   "id": "391af145-ec4e-4667-af99-4c176147b45a",
   "metadata": {},
   "source": [
    "### Wellness"
   ]
  },
  {
   "cell_type": "code",
   "execution_count": 5,
   "id": "3f0e41c1-ee4f-4f22-ab36-dcb245941ea2",
   "metadata": {},
   "outputs": [
    {
     "name": "stdout",
     "output_type": "stream",
     "text": [
      "116924331_bioMetrics_latest.json 4 B\n",
      "116924331_heartRateZones.json 213 B\n",
      "116924331_userBioMetricProfileData.json 62 B\n",
      "116924331_userBioMetrics.json 74648 B\n",
      "2023-08-30_2023-12-08_116924331_sleepData.json 34908 B\n",
      "2023-12-08_2024-03-17_116924331_sleepData.json 57275 B\n",
      "2024-03-17_2024-06-25_116924331_sleepData.json 57596 B\n",
      "2024-06-25_2024-10-03_116924331_sleepData.json 59062 B\n",
      "2024-10-03_2025-01-11_116924331_sleepData.json 60521 B\n"
     ]
    }
   ],
   "source": [
    "subdir = os.path.join(connect_dir, 'DI-Connect-Wellness')\n",
    "files = os.listdir(subdir)\n",
    "sizes = [os.path.getsize(os.path.join(subdir,f)) for f in files]\n",
    "for f,s in zip(files,sizes):\n",
    "    print(f,s, \"B\")"
   ]
  },
  {
   "cell_type": "code",
   "execution_count": 6,
   "id": "41494fee-59fe-45e5-a5f9-7aabfb50fcd3",
   "metadata": {
    "scrolled": true
   },
   "outputs": [
    {
     "name": "stdout",
     "output_type": "stream",
     "text": [
      "['sleepStartTimestampGMT', 'sleepEndTimestampGMT', 'calendarDate', 'sleepWindowConfirmationType', 'deepSleepSeconds', 'lightSleepSeconds', 'remSleepSeconds', 'awakeSleepSeconds', 'unmeasurableSeconds', 'spo2SleepSummary', 'averageRespiration', 'lowestRespiration', 'highestRespiration', 'retro']\n",
      "['sleepStartTimestampGMT', 'sleepEndTimestampGMT', 'calendarDate', 'sleepWindowConfirmationType', 'deepSleepSeconds', 'lightSleepSeconds', 'remSleepSeconds', 'awakeSleepSeconds', 'unmeasurableSeconds', 'spo2SleepSummary', 'averageRespiration', 'lowestRespiration', 'highestRespiration', 'retro']\n",
      "['sleepStartTimestampGMT', 'sleepEndTimestampGMT', 'calendarDate', 'sleepWindowConfirmationType', 'deepSleepSeconds', 'lightSleepSeconds', 'remSleepSeconds', 'awakeSleepSeconds', 'unmeasurableSeconds', 'spo2SleepSummary', 'averageRespiration', 'lowestRespiration', 'highestRespiration', 'retro']\n",
      "['sleepStartTimestampGMT', 'sleepEndTimestampGMT', 'calendarDate', 'sleepWindowConfirmationType', 'deepSleepSeconds', 'lightSleepSeconds', 'remSleepSeconds', 'awakeSleepSeconds', 'unmeasurableSeconds', 'spo2SleepSummary', 'averageRespiration', 'lowestRespiration', 'highestRespiration', 'retro']\n",
      "['sleepStartTimestampGMT', 'sleepEndTimestampGMT', 'calendarDate', 'sleepWindowConfirmationType', 'deepSleepSeconds', 'lightSleepSeconds', 'remSleepSeconds', 'awakeSleepSeconds', 'unmeasurableSeconds', 'spo2SleepSummary', 'averageRespiration', 'lowestRespiration', 'highestRespiration', 'retro']\n",
      "['sleepStartTimestampGMT', 'sleepEndTimestampGMT', 'calendarDate', 'sleepWindowConfirmationType', 'deepSleepSeconds', 'lightSleepSeconds', 'remSleepSeconds', 'awakeSleepSeconds', 'unmeasurableSeconds', 'spo2SleepSummary', 'averageRespiration', 'lowestRespiration', 'highestRespiration', 'retro']\n",
      "['sleepStartTimestampGMT', 'sleepEndTimestampGMT', 'calendarDate', 'sleepWindowConfirmationType', 'deepSleepSeconds', 'lightSleepSeconds', 'remSleepSeconds', 'awakeSleepSeconds', 'unmeasurableSeconds', 'spo2SleepSummary', 'averageRespiration', 'lowestRespiration', 'highestRespiration', 'retro']\n",
      "['sleepStartTimestampGMT', 'sleepEndTimestampGMT', 'calendarDate', 'sleepWindowConfirmationType', 'deepSleepSeconds', 'lightSleepSeconds', 'remSleepSeconds', 'awakeSleepSeconds', 'unmeasurableSeconds', 'spo2SleepSummary', 'averageRespiration', 'lowestRespiration', 'highestRespiration', 'retro']\n",
      "['sleepStartTimestampGMT', 'sleepEndTimestampGMT', 'calendarDate', 'sleepWindowConfirmationType', 'deepSleepSeconds', 'lightSleepSeconds', 'remSleepSeconds', 'awakeSleepSeconds', 'unmeasurableSeconds', 'spo2SleepSummary', 'averageRespiration', 'lowestRespiration', 'highestRespiration', 'retro']\n",
      "['sleepStartTimestampGMT', 'sleepEndTimestampGMT', 'calendarDate', 'sleepWindowConfirmationType', 'deepSleepSeconds', 'lightSleepSeconds', 'remSleepSeconds', 'awakeSleepSeconds', 'unmeasurableSeconds', 'spo2SleepSummary', 'averageRespiration', 'lowestRespiration', 'highestRespiration', 'retro']\n",
      "['sleepStartTimestampGMT', 'sleepEndTimestampGMT', 'calendarDate', 'sleepWindowConfirmationType', 'deepSleepSeconds', 'lightSleepSeconds', 'remSleepSeconds', 'awakeSleepSeconds', 'unmeasurableSeconds', 'spo2SleepSummary', 'averageRespiration', 'lowestRespiration', 'highestRespiration', 'retro']\n",
      "['sleepStartTimestampGMT', 'sleepEndTimestampGMT', 'calendarDate', 'sleepWindowConfirmationType', 'deepSleepSeconds', 'lightSleepSeconds', 'remSleepSeconds', 'awakeSleepSeconds', 'unmeasurableSeconds', 'spo2SleepSummary', 'averageRespiration', 'lowestRespiration', 'highestRespiration', 'retro']\n",
      "['sleepStartTimestampGMT', 'sleepEndTimestampGMT', 'calendarDate', 'sleepWindowConfirmationType', 'deepSleepSeconds', 'lightSleepSeconds', 'remSleepSeconds', 'awakeSleepSeconds', 'unmeasurableSeconds', 'spo2SleepSummary', 'averageRespiration', 'lowestRespiration', 'highestRespiration', 'retro']\n",
      "['sleepStartTimestampGMT', 'sleepEndTimestampGMT', 'calendarDate', 'sleepWindowConfirmationType', 'deepSleepSeconds', 'lightSleepSeconds', 'remSleepSeconds', 'awakeSleepSeconds', 'unmeasurableSeconds', 'spo2SleepSummary', 'averageRespiration', 'lowestRespiration', 'highestRespiration', 'retro']\n",
      "['sleepStartTimestampGMT', 'sleepEndTimestampGMT', 'calendarDate', 'sleepWindowConfirmationType', 'deepSleepSeconds', 'lightSleepSeconds', 'remSleepSeconds', 'awakeSleepSeconds', 'unmeasurableSeconds', 'spo2SleepSummary', 'averageRespiration', 'lowestRespiration', 'highestRespiration', 'retro']\n",
      "['sleepStartTimestampGMT', 'sleepEndTimestampGMT', 'calendarDate', 'sleepWindowConfirmationType', 'deepSleepSeconds', 'lightSleepSeconds', 'remSleepSeconds', 'awakeSleepSeconds', 'unmeasurableSeconds', 'spo2SleepSummary', 'averageRespiration', 'lowestRespiration', 'highestRespiration', 'retro']\n",
      "['sleepStartTimestampGMT', 'sleepEndTimestampGMT', 'calendarDate', 'sleepWindowConfirmationType', 'deepSleepSeconds', 'lightSleepSeconds', 'remSleepSeconds', 'awakeSleepSeconds', 'unmeasurableSeconds', 'spo2SleepSummary', 'averageRespiration', 'lowestRespiration', 'highestRespiration', 'retro']\n",
      "['sleepStartTimestampGMT', 'sleepEndTimestampGMT', 'calendarDate', 'sleepWindowConfirmationType', 'deepSleepSeconds', 'lightSleepSeconds', 'remSleepSeconds', 'awakeSleepSeconds', 'unmeasurableSeconds', 'spo2SleepSummary', 'averageRespiration', 'lowestRespiration', 'highestRespiration', 'retro']\n",
      "['sleepStartTimestampGMT', 'sleepEndTimestampGMT', 'calendarDate', 'sleepWindowConfirmationType', 'deepSleepSeconds', 'lightSleepSeconds', 'remSleepSeconds', 'awakeSleepSeconds', 'unmeasurableSeconds', 'spo2SleepSummary', 'retro']\n",
      "['sleepStartTimestampGMT', 'sleepEndTimestampGMT', 'calendarDate', 'sleepWindowConfirmationType', 'deepSleepSeconds', 'lightSleepSeconds', 'remSleepSeconds', 'awakeSleepSeconds', 'unmeasurableSeconds', 'spo2SleepSummary', 'retro']\n",
      "['sleepStartTimestampGMT', 'sleepEndTimestampGMT', 'calendarDate', 'sleepWindowConfirmationType', 'deepSleepSeconds', 'lightSleepSeconds', 'remSleepSeconds', 'awakeSleepSeconds', 'unmeasurableSeconds', 'spo2SleepSummary', 'averageRespiration', 'lowestRespiration', 'highestRespiration', 'retro']\n",
      "['sleepStartTimestampGMT', 'sleepEndTimestampGMT', 'calendarDate', 'sleepWindowConfirmationType', 'deepSleepSeconds', 'lightSleepSeconds', 'remSleepSeconds', 'awakeSleepSeconds', 'unmeasurableSeconds', 'spo2SleepSummary', 'averageRespiration', 'lowestRespiration', 'highestRespiration', 'retro']\n",
      "['sleepStartTimestampGMT', 'sleepEndTimestampGMT', 'calendarDate', 'sleepWindowConfirmationType', 'deepSleepSeconds', 'lightSleepSeconds', 'remSleepSeconds', 'awakeSleepSeconds', 'unmeasurableSeconds', 'spo2SleepSummary', 'averageRespiration', 'lowestRespiration', 'highestRespiration', 'retro']\n",
      "['sleepStartTimestampGMT', 'sleepEndTimestampGMT', 'calendarDate', 'sleepWindowConfirmationType', 'deepSleepSeconds', 'lightSleepSeconds', 'remSleepSeconds', 'awakeSleepSeconds', 'unmeasurableSeconds', 'spo2SleepSummary', 'averageRespiration', 'lowestRespiration', 'highestRespiration', 'retro']\n",
      "['sleepStartTimestampGMT', 'sleepEndTimestampGMT', 'calendarDate', 'sleepWindowConfirmationType', 'deepSleepSeconds', 'lightSleepSeconds', 'remSleepSeconds', 'awakeSleepSeconds', 'unmeasurableSeconds', 'spo2SleepSummary', 'averageRespiration', 'lowestRespiration', 'highestRespiration', 'retro']\n",
      "['sleepStartTimestampGMT', 'sleepEndTimestampGMT', 'calendarDate', 'sleepWindowConfirmationType', 'deepSleepSeconds', 'lightSleepSeconds', 'remSleepSeconds', 'awakeSleepSeconds', 'unmeasurableSeconds', 'spo2SleepSummary', 'averageRespiration', 'lowestRespiration', 'highestRespiration', 'retro']\n",
      "['sleepStartTimestampGMT', 'sleepEndTimestampGMT', 'calendarDate', 'sleepWindowConfirmationType', 'deepSleepSeconds', 'lightSleepSeconds', 'remSleepSeconds', 'awakeSleepSeconds', 'unmeasurableSeconds', 'spo2SleepSummary', 'averageRespiration', 'lowestRespiration', 'highestRespiration', 'retro']\n",
      "['sleepStartTimestampGMT', 'sleepEndTimestampGMT', 'calendarDate', 'sleepWindowConfirmationType', 'deepSleepSeconds', 'lightSleepSeconds', 'remSleepSeconds', 'awakeSleepSeconds', 'unmeasurableSeconds', 'spo2SleepSummary', 'averageRespiration', 'lowestRespiration', 'highestRespiration', 'retro']\n",
      "['sleepStartTimestampGMT', 'sleepEndTimestampGMT', 'calendarDate', 'sleepWindowConfirmationType', 'deepSleepSeconds', 'lightSleepSeconds', 'remSleepSeconds', 'awakeSleepSeconds', 'unmeasurableSeconds', 'spo2SleepSummary', 'averageRespiration', 'lowestRespiration', 'highestRespiration', 'retro']\n",
      "['sleepStartTimestampGMT', 'sleepEndTimestampGMT', 'calendarDate', 'sleepWindowConfirmationType', 'deepSleepSeconds', 'lightSleepSeconds', 'remSleepSeconds', 'awakeSleepSeconds', 'unmeasurableSeconds', 'spo2SleepSummary', 'averageRespiration', 'lowestRespiration', 'highestRespiration', 'retro']\n",
      "['sleepStartTimestampGMT', 'sleepEndTimestampGMT', 'calendarDate', 'sleepWindowConfirmationType', 'deepSleepSeconds', 'lightSleepSeconds', 'remSleepSeconds', 'awakeSleepSeconds', 'unmeasurableSeconds', 'spo2SleepSummary', 'averageRespiration', 'lowestRespiration', 'highestRespiration', 'retro']\n",
      "['sleepStartTimestampGMT', 'sleepEndTimestampGMT', 'calendarDate', 'sleepWindowConfirmationType', 'deepSleepSeconds', 'lightSleepSeconds', 'remSleepSeconds', 'awakeSleepSeconds', 'unmeasurableSeconds', 'spo2SleepSummary', 'averageRespiration', 'lowestRespiration', 'highestRespiration', 'retro']\n",
      "['sleepStartTimestampGMT', 'sleepEndTimestampGMT', 'calendarDate', 'sleepWindowConfirmationType', 'deepSleepSeconds', 'lightSleepSeconds', 'remSleepSeconds', 'awakeSleepSeconds', 'unmeasurableSeconds', 'spo2SleepSummary', 'averageRespiration', 'lowestRespiration', 'highestRespiration', 'retro']\n",
      "['sleepStartTimestampGMT', 'sleepEndTimestampGMT', 'calendarDate', 'sleepWindowConfirmationType', 'deepSleepSeconds', 'lightSleepSeconds', 'remSleepSeconds', 'awakeSleepSeconds', 'unmeasurableSeconds', 'spo2SleepSummary', 'averageRespiration', 'lowestRespiration', 'highestRespiration', 'retro']\n",
      "['sleepStartTimestampGMT', 'sleepEndTimestampGMT', 'calendarDate', 'sleepWindowConfirmationType', 'deepSleepSeconds', 'lightSleepSeconds', 'remSleepSeconds', 'awakeSleepSeconds', 'unmeasurableSeconds', 'spo2SleepSummary', 'averageRespiration', 'lowestRespiration', 'highestRespiration', 'retro']\n",
      "['sleepStartTimestampGMT', 'sleepEndTimestampGMT', 'calendarDate', 'sleepWindowConfirmationType', 'deepSleepSeconds', 'lightSleepSeconds', 'remSleepSeconds', 'awakeSleepSeconds', 'unmeasurableSeconds', 'spo2SleepSummary', 'averageRespiration', 'lowestRespiration', 'highestRespiration', 'retro']\n",
      "['sleepStartTimestampGMT', 'sleepEndTimestampGMT', 'calendarDate', 'sleepWindowConfirmationType', 'deepSleepSeconds', 'lightSleepSeconds', 'remSleepSeconds', 'awakeSleepSeconds', 'unmeasurableSeconds', 'spo2SleepSummary', 'averageRespiration', 'lowestRespiration', 'highestRespiration', 'retro']\n",
      "['sleepStartTimestampGMT', 'sleepEndTimestampGMT', 'calendarDate', 'sleepWindowConfirmationType', 'deepSleepSeconds', 'lightSleepSeconds', 'remSleepSeconds', 'awakeSleepSeconds', 'unmeasurableSeconds', 'spo2SleepSummary', 'averageRespiration', 'lowestRespiration', 'highestRespiration', 'retro']\n",
      "['sleepStartTimestampGMT', 'sleepEndTimestampGMT', 'calendarDate', 'sleepWindowConfirmationType', 'deepSleepSeconds', 'lightSleepSeconds', 'remSleepSeconds', 'awakeSleepSeconds', 'unmeasurableSeconds', 'spo2SleepSummary', 'averageRespiration', 'lowestRespiration', 'highestRespiration', 'retro']\n",
      "['sleepStartTimestampGMT', 'sleepEndTimestampGMT', 'calendarDate', 'sleepWindowConfirmationType', 'deepSleepSeconds', 'lightSleepSeconds', 'remSleepSeconds', 'awakeSleepSeconds', 'unmeasurableSeconds', 'spo2SleepSummary', 'averageRespiration', 'lowestRespiration', 'highestRespiration', 'retro']\n",
      "['sleepStartTimestampGMT', 'sleepEndTimestampGMT', 'calendarDate', 'sleepWindowConfirmationType', 'deepSleepSeconds', 'lightSleepSeconds', 'remSleepSeconds', 'awakeSleepSeconds', 'unmeasurableSeconds', 'spo2SleepSummary', 'averageRespiration', 'lowestRespiration', 'highestRespiration', 'retro']\n",
      "['sleepStartTimestampGMT', 'sleepEndTimestampGMT', 'calendarDate', 'sleepWindowConfirmationType', 'deepSleepSeconds', 'lightSleepSeconds', 'remSleepSeconds', 'awakeSleepSeconds', 'unmeasurableSeconds', 'spo2SleepSummary', 'averageRespiration', 'lowestRespiration', 'highestRespiration', 'retro']\n",
      "['sleepStartTimestampGMT', 'sleepEndTimestampGMT', 'calendarDate', 'sleepWindowConfirmationType', 'deepSleepSeconds', 'lightSleepSeconds', 'remSleepSeconds', 'awakeSleepSeconds', 'unmeasurableSeconds', 'spo2SleepSummary', 'averageRespiration', 'lowestRespiration', 'highestRespiration', 'retro']\n",
      "['sleepStartTimestampGMT', 'sleepEndTimestampGMT', 'calendarDate', 'sleepWindowConfirmationType', 'deepSleepSeconds', 'lightSleepSeconds', 'remSleepSeconds', 'awakeSleepSeconds', 'unmeasurableSeconds', 'spo2SleepSummary', 'averageRespiration', 'lowestRespiration', 'highestRespiration', 'retro']\n",
      "['sleepStartTimestampGMT', 'sleepEndTimestampGMT', 'calendarDate', 'sleepWindowConfirmationType', 'deepSleepSeconds', 'lightSleepSeconds', 'remSleepSeconds', 'awakeSleepSeconds', 'unmeasurableSeconds', 'spo2SleepSummary', 'averageRespiration', 'lowestRespiration', 'highestRespiration', 'retro']\n",
      "['sleepStartTimestampGMT', 'sleepEndTimestampGMT', 'calendarDate', 'sleepWindowConfirmationType', 'deepSleepSeconds', 'lightSleepSeconds', 'remSleepSeconds', 'awakeSleepSeconds', 'unmeasurableSeconds', 'spo2SleepSummary', 'averageRespiration', 'lowestRespiration', 'highestRespiration', 'retro']\n",
      "['sleepStartTimestampGMT', 'sleepEndTimestampGMT', 'calendarDate', 'sleepWindowConfirmationType', 'deepSleepSeconds', 'lightSleepSeconds', 'remSleepSeconds', 'awakeSleepSeconds', 'unmeasurableSeconds', 'spo2SleepSummary', 'averageRespiration', 'lowestRespiration', 'highestRespiration', 'retro']\n",
      "['sleepStartTimestampGMT', 'sleepEndTimestampGMT', 'calendarDate', 'sleepWindowConfirmationType', 'deepSleepSeconds', 'lightSleepSeconds', 'remSleepSeconds', 'awakeSleepSeconds', 'unmeasurableSeconds', 'spo2SleepSummary', 'averageRespiration', 'lowestRespiration', 'highestRespiration', 'retro']\n",
      "['sleepStartTimestampGMT', 'sleepEndTimestampGMT', 'calendarDate', 'sleepWindowConfirmationType', 'deepSleepSeconds', 'lightSleepSeconds', 'remSleepSeconds', 'awakeSleepSeconds', 'unmeasurableSeconds', 'spo2SleepSummary', 'averageRespiration', 'lowestRespiration', 'highestRespiration', 'retro']\n",
      "['sleepStartTimestampGMT', 'sleepEndTimestampGMT', 'calendarDate', 'sleepWindowConfirmationType', 'deepSleepSeconds', 'lightSleepSeconds', 'remSleepSeconds', 'awakeSleepSeconds', 'unmeasurableSeconds', 'spo2SleepSummary', 'averageRespiration', 'lowestRespiration', 'highestRespiration', 'retro']\n",
      "['sleepStartTimestampGMT', 'sleepEndTimestampGMT', 'calendarDate', 'sleepWindowConfirmationType', 'deepSleepSeconds', 'lightSleepSeconds', 'awakeSleepSeconds', 'unmeasurableSeconds', 'spo2SleepSummary', 'retro']\n",
      "['sleepStartTimestampGMT', 'sleepEndTimestampGMT', 'calendarDate', 'sleepWindowConfirmationType', 'deepSleepSeconds', 'lightSleepSeconds', 'remSleepSeconds', 'awakeSleepSeconds', 'unmeasurableSeconds', 'spo2SleepSummary', 'averageRespiration', 'lowestRespiration', 'highestRespiration', 'retro']\n",
      "['sleepStartTimestampGMT', 'sleepEndTimestampGMT', 'calendarDate', 'sleepWindowConfirmationType', 'deepSleepSeconds', 'lightSleepSeconds', 'awakeSleepSeconds', 'unmeasurableSeconds', 'spo2SleepSummary', 'retro']\n",
      "['sleepStartTimestampGMT', 'sleepEndTimestampGMT', 'calendarDate', 'sleepWindowConfirmationType', 'deepSleepSeconds', 'lightSleepSeconds', 'remSleepSeconds', 'awakeSleepSeconds', 'unmeasurableSeconds', 'spo2SleepSummary', 'averageRespiration', 'lowestRespiration', 'highestRespiration', 'retro']\n",
      "['sleepStartTimestampGMT', 'sleepEndTimestampGMT', 'calendarDate', 'sleepWindowConfirmationType', 'deepSleepSeconds', 'lightSleepSeconds', 'remSleepSeconds', 'awakeSleepSeconds', 'unmeasurableSeconds', 'spo2SleepSummary', 'averageRespiration', 'lowestRespiration', 'highestRespiration', 'retro']\n",
      "['sleepStartTimestampGMT', 'sleepEndTimestampGMT', 'calendarDate', 'sleepWindowConfirmationType', 'deepSleepSeconds', 'lightSleepSeconds', 'remSleepSeconds', 'awakeSleepSeconds', 'unmeasurableSeconds', 'spo2SleepSummary', 'averageRespiration', 'lowestRespiration', 'highestRespiration', 'retro']\n",
      "['sleepStartTimestampGMT', 'sleepEndTimestampGMT', 'calendarDate', 'sleepWindowConfirmationType', 'deepSleepSeconds', 'lightSleepSeconds', 'remSleepSeconds', 'awakeSleepSeconds', 'unmeasurableSeconds', 'spo2SleepSummary', 'averageRespiration', 'lowestRespiration', 'highestRespiration', 'retro']\n",
      "['sleepStartTimestampGMT', 'sleepEndTimestampGMT', 'calendarDate', 'sleepWindowConfirmationType', 'deepSleepSeconds', 'lightSleepSeconds', 'remSleepSeconds', 'awakeSleepSeconds', 'unmeasurableSeconds', 'spo2SleepSummary', 'averageRespiration', 'lowestRespiration', 'highestRespiration', 'retro']\n",
      "['sleepStartTimestampGMT', 'sleepEndTimestampGMT', 'calendarDate', 'sleepWindowConfirmationType', 'deepSleepSeconds', 'lightSleepSeconds', 'remSleepSeconds', 'awakeSleepSeconds', 'unmeasurableSeconds', 'spo2SleepSummary', 'averageRespiration', 'lowestRespiration', 'highestRespiration', 'retro']\n",
      "['sleepStartTimestampGMT', 'sleepEndTimestampGMT', 'calendarDate', 'sleepWindowConfirmationType', 'deepSleepSeconds', 'lightSleepSeconds', 'remSleepSeconds', 'awakeSleepSeconds', 'unmeasurableSeconds', 'spo2SleepSummary', 'averageRespiration', 'lowestRespiration', 'highestRespiration', 'retro']\n",
      "['sleepStartTimestampGMT', 'sleepEndTimestampGMT', 'calendarDate', 'sleepWindowConfirmationType', 'deepSleepSeconds', 'lightSleepSeconds', 'remSleepSeconds', 'awakeSleepSeconds', 'unmeasurableSeconds', 'spo2SleepSummary', 'averageRespiration', 'lowestRespiration', 'highestRespiration', 'retro']\n",
      "['sleepStartTimestampGMT', 'sleepEndTimestampGMT', 'calendarDate', 'sleepWindowConfirmationType', 'deepSleepSeconds', 'lightSleepSeconds', 'remSleepSeconds', 'awakeSleepSeconds', 'unmeasurableSeconds', 'spo2SleepSummary', 'averageRespiration', 'lowestRespiration', 'highestRespiration', 'retro']\n",
      "['sleepStartTimestampGMT', 'sleepEndTimestampGMT', 'calendarDate', 'sleepWindowConfirmationType', 'deepSleepSeconds', 'lightSleepSeconds', 'remSleepSeconds', 'awakeSleepSeconds', 'unmeasurableSeconds', 'spo2SleepSummary', 'averageRespiration', 'lowestRespiration', 'highestRespiration', 'retro']\n",
      "['sleepStartTimestampGMT', 'sleepEndTimestampGMT', 'calendarDate', 'sleepWindowConfirmationType', 'deepSleepSeconds', 'lightSleepSeconds', 'remSleepSeconds', 'awakeSleepSeconds', 'unmeasurableSeconds', 'spo2SleepSummary', 'averageRespiration', 'lowestRespiration', 'highestRespiration', 'retro']\n",
      "['sleepStartTimestampGMT', 'sleepEndTimestampGMT', 'calendarDate', 'sleepWindowConfirmationType', 'deepSleepSeconds', 'lightSleepSeconds', 'remSleepSeconds', 'awakeSleepSeconds', 'unmeasurableSeconds', 'spo2SleepSummary', 'averageRespiration', 'lowestRespiration', 'highestRespiration', 'retro']\n",
      "['sleepStartTimestampGMT', 'sleepEndTimestampGMT', 'calendarDate', 'sleepWindowConfirmationType', 'deepSleepSeconds', 'lightSleepSeconds', 'remSleepSeconds', 'awakeSleepSeconds', 'unmeasurableSeconds', 'spo2SleepSummary', 'averageRespiration', 'lowestRespiration', 'highestRespiration', 'retro']\n",
      "['sleepStartTimestampGMT', 'sleepEndTimestampGMT', 'calendarDate', 'sleepWindowConfirmationType', 'deepSleepSeconds', 'lightSleepSeconds', 'remSleepSeconds', 'awakeSleepSeconds', 'unmeasurableSeconds', 'spo2SleepSummary', 'averageRespiration', 'lowestRespiration', 'highestRespiration', 'retro']\n",
      "['sleepStartTimestampGMT', 'sleepEndTimestampGMT', 'calendarDate', 'sleepWindowConfirmationType', 'deepSleepSeconds', 'lightSleepSeconds', 'remSleepSeconds', 'awakeSleepSeconds', 'unmeasurableSeconds', 'spo2SleepSummary', 'averageRespiration', 'lowestRespiration', 'highestRespiration', 'retro']\n",
      "['sleepStartTimestampGMT', 'sleepEndTimestampGMT', 'calendarDate', 'sleepWindowConfirmationType', 'deepSleepSeconds', 'lightSleepSeconds', 'remSleepSeconds', 'awakeSleepSeconds', 'unmeasurableSeconds', 'spo2SleepSummary', 'averageRespiration', 'lowestRespiration', 'highestRespiration', 'retro']\n",
      "['sleepStartTimestampGMT', 'sleepEndTimestampGMT', 'calendarDate', 'sleepWindowConfirmationType', 'deepSleepSeconds', 'lightSleepSeconds', 'awakeSleepSeconds', 'unmeasurableSeconds', 'spo2SleepSummary', 'retro']\n",
      "['sleepStartTimestampGMT', 'sleepEndTimestampGMT', 'calendarDate', 'sleepWindowConfirmationType', 'deepSleepSeconds', 'lightSleepSeconds', 'remSleepSeconds', 'awakeSleepSeconds', 'unmeasurableSeconds', 'spo2SleepSummary', 'averageRespiration', 'lowestRespiration', 'highestRespiration', 'retro']\n",
      "['sleepStartTimestampGMT', 'sleepEndTimestampGMT', 'calendarDate', 'sleepWindowConfirmationType', 'deepSleepSeconds', 'lightSleepSeconds', 'remSleepSeconds', 'awakeSleepSeconds', 'unmeasurableSeconds', 'spo2SleepSummary', 'averageRespiration', 'lowestRespiration', 'highestRespiration', 'retro']\n",
      "['sleepStartTimestampGMT', 'sleepEndTimestampGMT', 'calendarDate', 'sleepWindowConfirmationType', 'deepSleepSeconds', 'lightSleepSeconds', 'remSleepSeconds', 'awakeSleepSeconds', 'unmeasurableSeconds', 'spo2SleepSummary', 'averageRespiration', 'lowestRespiration', 'highestRespiration', 'retro']\n",
      "['sleepStartTimestampGMT', 'sleepEndTimestampGMT', 'calendarDate', 'sleepWindowConfirmationType', 'deepSleepSeconds', 'lightSleepSeconds', 'remSleepSeconds', 'awakeSleepSeconds', 'unmeasurableSeconds', 'spo2SleepSummary', 'averageRespiration', 'lowestRespiration', 'highestRespiration', 'retro']\n",
      "['sleepStartTimestampGMT', 'sleepEndTimestampGMT', 'calendarDate', 'sleepWindowConfirmationType', 'deepSleepSeconds', 'lightSleepSeconds', 'remSleepSeconds', 'awakeSleepSeconds', 'unmeasurableSeconds', 'spo2SleepSummary', 'averageRespiration', 'lowestRespiration', 'highestRespiration', 'retro']\n",
      "['sleepStartTimestampGMT', 'sleepEndTimestampGMT', 'calendarDate', 'sleepWindowConfirmationType', 'deepSleepSeconds', 'lightSleepSeconds', 'remSleepSeconds', 'awakeSleepSeconds', 'unmeasurableSeconds', 'spo2SleepSummary', 'averageRespiration', 'lowestRespiration', 'highestRespiration', 'retro']\n",
      "['sleepStartTimestampGMT', 'sleepEndTimestampGMT', 'calendarDate', 'sleepWindowConfirmationType', 'deepSleepSeconds', 'lightSleepSeconds', 'awakeSleepSeconds', 'unmeasurableSeconds', 'spo2SleepSummary', 'retro']\n",
      "['sleepStartTimestampGMT', 'sleepEndTimestampGMT', 'calendarDate', 'sleepWindowConfirmationType', 'deepSleepSeconds', 'lightSleepSeconds', 'remSleepSeconds', 'awakeSleepSeconds', 'unmeasurableSeconds', 'spo2SleepSummary', 'averageRespiration', 'lowestRespiration', 'highestRespiration', 'retro']\n",
      "['sleepStartTimestampGMT', 'sleepEndTimestampGMT', 'calendarDate', 'sleepWindowConfirmationType', 'deepSleepSeconds', 'lightSleepSeconds', 'remSleepSeconds', 'awakeSleepSeconds', 'unmeasurableSeconds', 'spo2SleepSummary', 'averageRespiration', 'lowestRespiration', 'highestRespiration', 'retro']\n",
      "['sleepStartTimestampGMT', 'sleepEndTimestampGMT', 'calendarDate', 'sleepWindowConfirmationType', 'deepSleepSeconds', 'lightSleepSeconds', 'awakeSleepSeconds', 'unmeasurableSeconds', 'spo2SleepSummary', 'retro']\n",
      "['sleepStartTimestampGMT', 'sleepEndTimestampGMT', 'calendarDate', 'sleepWindowConfirmationType', 'deepSleepSeconds', 'lightSleepSeconds', 'awakeSleepSeconds', 'unmeasurableSeconds', 'spo2SleepSummary', 'retro']\n",
      "['sleepStartTimestampGMT', 'sleepEndTimestampGMT', 'calendarDate', 'sleepWindowConfirmationType', 'deepSleepSeconds', 'lightSleepSeconds', 'remSleepSeconds', 'awakeSleepSeconds', 'unmeasurableSeconds', 'spo2SleepSummary', 'averageRespiration', 'lowestRespiration', 'highestRespiration', 'retro']\n",
      "['sleepStartTimestampGMT', 'sleepEndTimestampGMT', 'calendarDate', 'sleepWindowConfirmationType', 'deepSleepSeconds', 'lightSleepSeconds', 'remSleepSeconds', 'awakeSleepSeconds', 'unmeasurableSeconds', 'spo2SleepSummary', 'averageRespiration', 'lowestRespiration', 'highestRespiration', 'retro']\n",
      "['sleepStartTimestampGMT', 'sleepEndTimestampGMT', 'calendarDate', 'sleepWindowConfirmationType', 'deepSleepSeconds', 'lightSleepSeconds', 'remSleepSeconds', 'awakeSleepSeconds', 'unmeasurableSeconds', 'spo2SleepSummary', 'averageRespiration', 'lowestRespiration', 'highestRespiration', 'retro']\n",
      "['sleepStartTimestampGMT', 'sleepEndTimestampGMT', 'calendarDate', 'sleepWindowConfirmationType', 'deepSleepSeconds', 'lightSleepSeconds', 'remSleepSeconds', 'awakeSleepSeconds', 'unmeasurableSeconds', 'spo2SleepSummary', 'averageRespiration', 'lowestRespiration', 'highestRespiration', 'retro']\n",
      "['sleepStartTimestampGMT', 'sleepEndTimestampGMT', 'calendarDate', 'sleepWindowConfirmationType', 'deepSleepSeconds', 'lightSleepSeconds', 'remSleepSeconds', 'awakeSleepSeconds', 'unmeasurableSeconds', 'spo2SleepSummary', 'averageRespiration', 'lowestRespiration', 'highestRespiration', 'retro']\n",
      "['sleepStartTimestampGMT', 'sleepEndTimestampGMT', 'calendarDate', 'sleepWindowConfirmationType', 'deepSleepSeconds', 'lightSleepSeconds', 'remSleepSeconds', 'awakeSleepSeconds', 'unmeasurableSeconds', 'spo2SleepSummary', 'averageRespiration', 'lowestRespiration', 'highestRespiration', 'retro']\n",
      "['sleepStartTimestampGMT', 'sleepEndTimestampGMT', 'calendarDate', 'sleepWindowConfirmationType', 'deepSleepSeconds', 'lightSleepSeconds', 'remSleepSeconds', 'awakeSleepSeconds', 'unmeasurableSeconds', 'spo2SleepSummary', 'averageRespiration', 'lowestRespiration', 'highestRespiration', 'retro']\n",
      "['sleepStartTimestampGMT', 'sleepEndTimestampGMT', 'calendarDate', 'sleepWindowConfirmationType', 'deepSleepSeconds', 'lightSleepSeconds', 'remSleepSeconds', 'awakeSleepSeconds', 'unmeasurableSeconds', 'spo2SleepSummary', 'averageRespiration', 'lowestRespiration', 'highestRespiration', 'retro']\n",
      "['sleepStartTimestampGMT', 'sleepEndTimestampGMT', 'calendarDate', 'sleepWindowConfirmationType', 'deepSleepSeconds', 'lightSleepSeconds', 'remSleepSeconds', 'awakeSleepSeconds', 'unmeasurableSeconds', 'spo2SleepSummary', 'averageRespiration', 'lowestRespiration', 'highestRespiration', 'retro']\n",
      "['sleepStartTimestampGMT', 'sleepEndTimestampGMT', 'calendarDate', 'sleepWindowConfirmationType', 'deepSleepSeconds', 'lightSleepSeconds', 'remSleepSeconds', 'awakeSleepSeconds', 'unmeasurableSeconds', 'spo2SleepSummary', 'averageRespiration', 'lowestRespiration', 'highestRespiration', 'retro']\n",
      "['sleepStartTimestampGMT', 'sleepEndTimestampGMT', 'calendarDate', 'sleepWindowConfirmationType', 'deepSleepSeconds', 'lightSleepSeconds', 'remSleepSeconds', 'awakeSleepSeconds', 'unmeasurableSeconds', 'spo2SleepSummary', 'averageRespiration', 'lowestRespiration', 'highestRespiration', 'retro']\n",
      "['sleepStartTimestampGMT', 'sleepEndTimestampGMT', 'calendarDate', 'sleepWindowConfirmationType', 'deepSleepSeconds', 'lightSleepSeconds', 'remSleepSeconds', 'awakeSleepSeconds', 'unmeasurableSeconds', 'spo2SleepSummary', 'averageRespiration', 'lowestRespiration', 'highestRespiration', 'retro']\n",
      "['sleepStartTimestampGMT', 'sleepEndTimestampGMT', 'calendarDate', 'sleepWindowConfirmationType', 'deepSleepSeconds', 'lightSleepSeconds', 'remSleepSeconds', 'awakeSleepSeconds', 'unmeasurableSeconds', 'spo2SleepSummary', 'averageRespiration', 'lowestRespiration', 'highestRespiration', 'retro']\n",
      "['sleepStartTimestampGMT', 'sleepEndTimestampGMT', 'calendarDate', 'sleepWindowConfirmationType', 'deepSleepSeconds', 'lightSleepSeconds', 'remSleepSeconds', 'awakeSleepSeconds', 'unmeasurableSeconds', 'spo2SleepSummary', 'averageRespiration', 'lowestRespiration', 'highestRespiration', 'retro']\n",
      "['sleepStartTimestampGMT', 'sleepEndTimestampGMT', 'calendarDate', 'sleepWindowConfirmationType', 'deepSleepSeconds', 'lightSleepSeconds', 'remSleepSeconds', 'awakeSleepSeconds', 'unmeasurableSeconds', 'spo2SleepSummary', 'averageRespiration', 'lowestRespiration', 'highestRespiration', 'retro']\n",
      "['sleepStartTimestampGMT', 'sleepEndTimestampGMT', 'calendarDate', 'sleepWindowConfirmationType', 'deepSleepSeconds', 'lightSleepSeconds', 'remSleepSeconds', 'awakeSleepSeconds', 'unmeasurableSeconds', 'spo2SleepSummary', 'averageRespiration', 'lowestRespiration', 'highestRespiration', 'retro']\n",
      "['sleepStartTimestampGMT', 'sleepEndTimestampGMT', 'calendarDate', 'sleepWindowConfirmationType', 'deepSleepSeconds', 'lightSleepSeconds', 'remSleepSeconds', 'awakeSleepSeconds', 'unmeasurableSeconds', 'spo2SleepSummary', 'averageRespiration', 'lowestRespiration', 'highestRespiration', 'retro']\n",
      "['sleepStartTimestampGMT', 'sleepEndTimestampGMT', 'calendarDate', 'sleepWindowConfirmationType', 'deepSleepSeconds', 'lightSleepSeconds', 'remSleepSeconds', 'awakeSleepSeconds', 'unmeasurableSeconds', 'spo2SleepSummary', 'averageRespiration', 'lowestRespiration', 'highestRespiration', 'retro']\n",
      "['sleepStartTimestampGMT', 'sleepEndTimestampGMT', 'calendarDate', 'sleepWindowConfirmationType', 'deepSleepSeconds', 'lightSleepSeconds', 'remSleepSeconds', 'awakeSleepSeconds', 'unmeasurableSeconds', 'spo2SleepSummary', 'averageRespiration', 'lowestRespiration', 'highestRespiration', 'retro']\n"
     ]
    }
   ],
   "source": [
    "fname = '2024-10-03_2025-01-11_116924331_sleepData.json'\n",
    "with open(os.path.join(subdir, fname)) as f:\n",
    "    flist = json.load(f)\n",
    "\n",
    "for ls in flist:\n",
    "    print(list(ls.keys()))"
   ]
  },
  {
   "cell_type": "markdown",
   "id": "ebafaced-2f3b-4173-82d2-a0463a7ae537",
   "metadata": {},
   "source": [
    "## Sleep Data"
   ]
  },
  {
   "cell_type": "markdown",
   "id": "d6929cc8-59a7-40ed-ba0a-2a9e9831b3e2",
   "metadata": {},
   "source": [
    "### misc testing"
   ]
  },
  {
   "cell_type": "code",
   "execution_count": 14,
   "id": "dd90e7b5-d533-43f8-b30f-bacdb8f855b3",
   "metadata": {},
   "outputs": [
    {
     "name": "stdout",
     "output_type": "stream",
     "text": [
      "116924331_bioMetrics_latest.json 4 B\n",
      "116924331_heartRateZones.json 213 B\n",
      "116924331_userBioMetricProfileData.json 62 B\n",
      "116924331_userBioMetrics.json 74648 B\n",
      "2023-08-30_2023-12-08_116924331_sleepData.json 34908 B\n",
      "2023-12-08_2024-03-17_116924331_sleepData.json 57275 B\n",
      "2024-03-17_2024-06-25_116924331_sleepData.json 57596 B\n",
      "2024-06-25_2024-10-03_116924331_sleepData.json 59062 B\n",
      "2024-10-03_2025-01-11_116924331_sleepData.json 60521 B\n",
      "['2023-08-30_2023-12-08_116924331_sleepData.json', '2023-12-08_2024-03-17_116924331_sleepData.json', '2024-03-17_2024-06-25_116924331_sleepData.json', '2024-06-25_2024-10-03_116924331_sleepData.json', '2024-10-03_2025-01-11_116924331_sleepData.json']\n"
     ]
    }
   ],
   "source": [
    "subdir = os.path.join(connect_dir, 'DI-Connect-Wellness')\n",
    "files = os.listdir(subdir)\n",
    "sizes = [os.path.getsize(os.path.join(subdir,f)) for f in files]\n",
    "sleep_files = []\n",
    "for f,s in zip(files,sizes):\n",
    "    print(f,s, \"B\")\n",
    "    if 'sleepData' in f:\n",
    "        sleep_files.append(f)\n",
    "print(sleep_files)"
   ]
  },
  {
   "cell_type": "code",
   "execution_count": 17,
   "id": "2087ef83-e900-42a5-905b-c0c8435b2d41",
   "metadata": {},
   "outputs": [
    {
     "data": {
      "text/plain": [
       "str"
      ]
     },
     "execution_count": 17,
     "metadata": {},
     "output_type": "execute_result"
    }
   ],
   "source": [
    "type(files)"
   ]
  },
  {
   "cell_type": "code",
   "execution_count": 18,
   "id": "14200a19-f1cb-4eea-a7bd-1f0c3f2d0b32",
   "metadata": {
    "scrolled": true
   },
   "outputs": [],
   "source": [
    "fname = '2024-10-03_2025-01-11_116924331_sleepData.json'\n",
    "\n",
    "content_list = []\n",
    "for fname in sleep_files:\n",
    "    with open(os.path.join(subdir, fname)) as f:\n",
    "        content_list += json.load(f)"
   ]
  },
  {
   "cell_type": "code",
   "execution_count": 24,
   "id": "902db7eb-1453-43df-b7cf-f52a84d914e2",
   "metadata": {},
   "outputs": [
    {
     "name": "stdout",
     "output_type": "stream",
     "text": [
      "['sleepStartTimestampGMT', 'sleepEndTimestampGMT', 'calendarDate', 'sleepWindowConfirmationType', 'deepSleepSeconds', 'lightSleepSeconds', 'remSleepSeconds', 'awakeSleepSeconds', 'unmeasurableSeconds', 'spo2SleepSummary', 'averageRespiration', 'lowestRespiration', 'highestRespiration', 'retro', 'userNote']\n"
     ]
    }
   ],
   "source": [
    "print(list(content_list[2].keys()))"
   ]
  },
  {
   "cell_type": "code",
   "execution_count": 25,
   "id": "0488f6ab-af76-49c5-8fb1-bda414708680",
   "metadata": {},
   "outputs": [
    {
     "data": {
      "text/plain": [
       "'2023-10-13'"
      ]
     },
     "execution_count": 25,
     "metadata": {},
     "output_type": "execute_result"
    }
   ],
   "source": [
    "content_list[2]['calendarDate']"
   ]
  },
  {
   "cell_type": "code",
   "execution_count": 33,
   "id": "2c2188a5-e8b7-4a80-88b6-e6535eb0a660",
   "metadata": {},
   "outputs": [
    {
     "data": {
      "text/plain": [
       "7380"
      ]
     },
     "execution_count": 33,
     "metadata": {},
     "output_type": "execute_result"
    }
   ],
   "source": [
    "content_list[2]['deepSleepSeconds']"
   ]
  },
  {
   "cell_type": "code",
   "execution_count": 36,
   "id": "e3abc216-3243-4c3c-9939-9e61a40b839a",
   "metadata": {},
   "outputs": [
    {
     "data": {
      "text/plain": [
       "'ENHANCED_CONFIRMED_FINAL'"
      ]
     },
     "execution_count": 36,
     "metadata": {},
     "output_type": "execute_result"
    }
   ],
   "source": [
    "content_list[2]['sleepWindowConfirmationType']"
   ]
  },
  {
   "cell_type": "code",
   "execution_count": 20,
   "id": "c5605379-c4d6-4bf3-8fa2-b325143ed960",
   "metadata": {},
   "outputs": [
    {
     "data": {
      "text/plain": [
       "('2023-10-11T04:00:00.0', '2023-10-11T12:00:00.0')"
      ]
     },
     "execution_count": 20,
     "metadata": {},
     "output_type": "execute_result"
    }
   ],
   "source": [
    "content_list[0]['sleepStartTimestampGMT'], content_list[0]['sleepEndTimestampGMT']"
   ]
  },
  {
   "cell_type": "code",
   "execution_count": 21,
   "id": "8923484d-29e0-4cf1-a186-aa7773e054d2",
   "metadata": {},
   "outputs": [
    {
     "name": "stdout",
     "output_type": "stream",
     "text": [
      "['2023-10-11', '04:00:00.0']\n",
      "['2023-10-11', '12:00:00.0']\n"
     ]
    }
   ],
   "source": [
    "sleeptimestamp = content_list[0]['sleepStartTimestampGMT']\n",
    "print(sleeptimestamp.split('T'))\n",
    "\n",
    "sleeptimestamp = content_list[0]['sleepEndTimestampGMT']\n",
    "print(sleeptimestamp.split('T'))"
   ]
  },
  {
   "cell_type": "code",
   "execution_count": 69,
   "id": "98858788-e59e-4865-842a-7e3b59699839",
   "metadata": {},
   "outputs": [
    {
     "name": "stdout",
     "output_type": "stream",
     "text": [
      "00:00:00.0\n"
     ]
    }
   ],
   "source": [
    "timestamp = '12:00:00.0'\n",
    "hrs = 12\n",
    "assert -11 <= hrs <= 13, \"invalid timezone\"\n",
    "military_hrs = int(timestamp[:2]) + hrs\n",
    "military_hrs = military_hrs if military_hrs > 0 else military_hrs + 24 \n",
    "military_hrs = military_hrs if military_hrs < 24 else 24 - military_hrs\n",
    "new_hrs = str(military_hrs)\n",
    "hrs_digits = new_hrs if len(new_hrs) == 2 else '0' + new_hrs\n",
    "timestamp = hrs_digits + timestamp[2:]\n",
    "print(timestamp)"
   ]
  },
  {
   "cell_type": "code",
   "execution_count": 106,
   "id": "0823b67f-04a1-4755-a3db-ce89a30a1ee9",
   "metadata": {},
   "outputs": [],
   "source": [
    "def timestamp_timezone_change(timestamp, hrs):\n",
    "    \"\"\"\n",
    "    converts a timestamp to a different timezone by adding hrs (int) relative to GMT\n",
    "\n",
    "    timestamp is a string formatted as hh:mm:ss.s.\n",
    "    \"\"\"\n",
    "    assert -11 <= hrs <= 13, \"invalid timezone\"\n",
    "    int_hrs = int(timestamp[:2]) + hrs\n",
    "    int_hrs = int_hrs if int_hrs > -1 else int_hrs + 24\n",
    "    new_hrs = str(int_hrs)\n",
    "    hrs_digits = new_hrs if len(new_hrs) == 2 else '0' + new_hrs\n",
    "    timestamp = hrs_digits + timestamp[2:]\n",
    "    return timestamp"
   ]
  },
  {
   "cell_type": "code",
   "execution_count": 145,
   "id": "298c646b-e5e2-4a52-a424-849eaf45fe73",
   "metadata": {},
   "outputs": [],
   "source": [
    "# create a dictionary of sleep data by date\n",
    "sleep_by_date = {}\n",
    "\n",
    "# adjust for timezone changes from moves and vacations\n",
    "# for dates including and earlier than the date key, adjust GMT time by value (hours)\n",
    "zone_changes = {\n",
    "    '2025-01-11': -6, # day before move to Brookline\n",
    "    '2035-12-31': -5  # arbitrarily far in the future\n",
    "}\n",
    "\n",
    "def get_next_timezone():\n",
    "    for key, val in zone_changes.items():\n",
    "        yield key, val\n",
    "\n",
    "timechange_iter = get_next_timezone()\n",
    "zone_change_date, hrs_from_GMT = next(timechange_iter)\n",
    "change_zone = lambda timestamp: timestamp_timezone_change(timestamp, hrs_from_GMT)\n",
    "\n",
    "for i,elem in enumerate(content_list):\n",
    "    date = elem['calendarDate']\n",
    "    if date > zone_change_date:\n",
    "        zone_change_date, hrs_from_GMT = next(timechange_iter)\n",
    "        change_zone = lambda timestamp: timestamp_timezone_change(timestamp, hrs_from_GMT)\n",
    "    \n",
    "    _, sleep_start_timestr = elem['sleepStartTimestampGMT'].split('T')\n",
    "    _, sleep_end_timestr = elem['sleepEndTimestampGMT'].split('T')\n",
    "\n",
    "    sleep_duration = sleep_end_time - sleep_start_time\n",
    "    \n",
    "    sleep_start_timestr = change_zone(sleep_start_timestr)\n",
    "    sleep_end_timestr = change_zone(sleep_end_timestr)\n",
    "    \n",
    "    sleep_start_time = digital_time_to_minutes(sleep_start_timestr)\n",
    "    sleep_end_time = digital_time_to_minutes(sleep_end_timestr)\n",
    "    \n",
    "    sleep_by_date[date] = {'datetimeDate': dt.strptime(date,'%Y-%m-%d'),\n",
    "                           'sleepStartTime': sleep_start_timestr,\n",
    "                           'sleepEndTime': sleep_end_timestr,\n",
    "                           'sleepDurationMinutes': get_minutes_difference(sleep_start_timestr,sleep_end_timestr) \n",
    "                          }\n",
    "\n",
    "    for key in [k for k in elem.keys() if 'Seconds' in k]:\n",
    "        sleep_by_date[date][key.replace('Seconds','Minutes')] = elem[key]/60\n",
    "\n",
    "    for key in [k for k in elem.keys() if 'Respiration' in k]:\n",
    "        sleep_by_date[date][key] = elem[key]\n",
    "    \n",
    "    if i == 3:\n",
    "        break"
   ]
  },
  {
   "cell_type": "code",
   "execution_count": 146,
   "id": "e176d0cd-519d-4bf2-9309-baf889d156b0",
   "metadata": {},
   "outputs": [
    {
     "data": {
      "text/plain": [
       "{'2023-10-11': {'datetimeDate': datetime.datetime(2023, 10, 11, 0, 0),\n",
       "  'sleepStartTime': '22:00:00.0',\n",
       "  'sleepEndTime': '06:00:00.0',\n",
       "  'sleepDurationMinutes': 480},\n",
       " '2023-10-12': {'datetimeDate': datetime.datetime(2023, 10, 12, 0, 0),\n",
       "  'sleepStartTime': '22:51:00.0',\n",
       "  'sleepEndTime': '06:27:00.0',\n",
       "  'sleepDurationMinutes': 456,\n",
       "  'deepSleepMinutes': 75.0,\n",
       "  'lightSleepMinutes': 292.0,\n",
       "  'remSleepMinutes': 86.0,\n",
       "  'awakeSleepMinutes': 3.0,\n",
       "  'unmeasurableMinutes': 0.0,\n",
       "  'averageRespiration': 14.0,\n",
       "  'lowestRespiration': 12.0,\n",
       "  'highestRespiration': 20.0},\n",
       " '2023-10-13': {'datetimeDate': datetime.datetime(2023, 10, 13, 0, 0),\n",
       "  'sleepStartTime': '22:24:00.0',\n",
       "  'sleepEndTime': '05:59:00.0',\n",
       "  'sleepDurationMinutes': 455,\n",
       "  'deepSleepMinutes': 123.0,\n",
       "  'lightSleepMinutes': 310.0,\n",
       "  'remSleepMinutes': 20.0,\n",
       "  'awakeSleepMinutes': 2.0,\n",
       "  'unmeasurableMinutes': 0.0,\n",
       "  'averageRespiration': 14.0,\n",
       "  'lowestRespiration': 11.0,\n",
       "  'highestRespiration': 16.0},\n",
       " '2023-10-14': {'datetimeDate': datetime.datetime(2023, 10, 14, 0, 0),\n",
       "  'sleepStartTime': '22:04:00.0',\n",
       "  'sleepEndTime': '06:40:00.0',\n",
       "  'sleepDurationMinutes': 516,\n",
       "  'deepSleepMinutes': 73.0,\n",
       "  'lightSleepMinutes': 363.0,\n",
       "  'remSleepMinutes': 67.0,\n",
       "  'awakeSleepMinutes': 13.0,\n",
       "  'unmeasurableMinutes': 0.0,\n",
       "  'averageRespiration': 13.0,\n",
       "  'lowestRespiration': 8.0,\n",
       "  'highestRespiration': 17.0}}"
      ]
     },
     "execution_count": 146,
     "metadata": {},
     "output_type": "execute_result"
    }
   ],
   "source": [
    "sleep_by_date"
   ]
  },
  {
   "cell_type": "code",
   "execution_count": 155,
   "id": "b0831799-1df8-4baa-b066-b10f90fc7f8e",
   "metadata": {},
   "outputs": [],
   "source": [
    "dates, sleep_duration_hrs = np.array([(fields['datetimeDate'], fields['sleepDurationMinutes']/60) for date, fields in sleep_by_date.items() \n",
    "                      if 'sleepDurationMinutes' in fields]).T"
   ]
  },
  {
   "cell_type": "code",
   "execution_count": 156,
   "id": "f7f139f9-f303-446a-bb77-3210019c9c57",
   "metadata": {},
   "outputs": [
    {
     "data": {
      "text/plain": [
       "array([8.0, 7.6, 7.583333333333333, 8.6], dtype=object)"
      ]
     },
     "execution_count": 156,
     "metadata": {},
     "output_type": "execute_result"
    }
   ],
   "source": [
    "sleep_duration_hrs"
   ]
  },
  {
   "cell_type": "code",
   "execution_count": 158,
   "id": "d159cc63-036d-48e0-b486-5898ccf85f77",
   "metadata": {},
   "outputs": [
    {
     "data": {
      "text/plain": [
       "[<matplotlib.lines.Line2D at 0x1eb70991d10>]"
      ]
     },
     "execution_count": 158,
     "metadata": {},
     "output_type": "execute_result"
    },
    {
     "data": {
      "image/png": "[encoded data removed]",
      "text/plain": [
       "<Figure size 640x480 with 1 Axes>"
      ]
     },
     "metadata": {},
     "output_type": "display_data"
    }
   ],
   "source": [
    "plt.plot(dates,sleep_duration_hrs)"
   ]
  },
  {
   "cell_type": "code",
   "execution_count": null,
   "id": "91cf8ef5-ab12-4114-aaf3-b1790b62ef7b",
   "metadata": {},
   "outputs": [],
   "source": []
  }
 ],
 "metadata": {
  "kernelspec": {
   "display_name": "Python 3 (ipykernel)",
   "language": "python",
   "name": "python3"
  },
  "language_info": {
   "codemirror_mode": {
    "name": "ipython",
    "version": 3
   },
   "file_extension": ".py",
   "mimetype": "text/x-python",
   "name": "python",
   "nbconvert_exporter": "python",
   "pygments_lexer": "ipython3",
   "version": "3.13.0"
  }
 },
 "nbformat": 4,
 "nbformat_minor": 5
}
