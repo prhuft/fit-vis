{
 "cells": [
  {
   "cell_type": "markdown",
   "id": "f83d43ab-41f4-448b-b669-8b748cb9926e",
   "metadata": {},
   "source": [
    "Notebook for viewing detailed activity obtained by requesting a comprehensive data export from Garmin (https://www.garmin.com/en-US/account/datamanagement/exportdata).\n",
    "\n",
    "todo"
   ]
  },
  {
   "cell_type": "code",
   "execution_count": 49,
   "id": "453a2ad9-ad25-4b56-877b-5eab6168e782",
   "metadata": {},
   "outputs": [],
   "source": [
    "import matplotlib.pyplot as plt\n",
    "import numpy as np\n",
    "import csv\n",
    "import os, sys\n",
    "import pandas as pd\n",
    "\n",
    "datadir = 'data'\n",
    "\n",
    "def digital_time_to_minutes(timestr):\n",
    "    to_minutes = [60,1,1/60]\n",
    "    hrs,mins,secs = [conv*float(x) for x,conv in zip(timestr.split(':'), to_minutes)]\n",
    "    minutes = hrs + mins + secs\n",
    "    return minutes"
   ]
  }
 ],
 "metadata": {
  "kernelspec": {
   "display_name": "Python 3 (ipykernel)",
   "language": "python",
   "name": "python3"
  },
  "language_info": {
   "codemirror_mode": {
    "name": "ipython",
    "version": 3
   },
   "file_extension": ".py",
   "mimetype": "text/x-python",
   "name": "python",
   "nbconvert_exporter": "python",
   "pygments_lexer": "ipython3",
   "version": "3.13.0"
  }
 },
 "nbformat": 4,
 "nbformat_minor": 5
}
