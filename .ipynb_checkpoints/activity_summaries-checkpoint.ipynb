{
 "cells": [
  {
   "cell_type": "markdown",
   "id": "f83d43ab-41f4-448b-b669-8b748cb9926e",
   "metadata": {},
   "source": [
    "Notebook for viewing activity summaries downloaded from Garmin Connect (https://connect.garmin.com/modern/activities, export CSV)."
   ]
  },
  {
   "cell_type": "code",
   "execution_count": 49,
   "id": "453a2ad9-ad25-4b56-877b-5eab6168e782",
   "metadata": {},
   "outputs": [],
   "source": [
    "import matplotlib.pyplot as plt\n",
    "import numpy as np\n",
    "import csv\n",
    "import os, sys\n",
    "import pandas as pd\n",
    "\n",
    "datadir = 'data'\n",
    "\n",
    "def digital_time_to_minutes(timestr):\n",
    "    to_minutes = [60,1,1/60]\n",
    "    hrs,mins,secs = [conv*float(x) for x,conv in zip(timestr.split(':'), to_minutes)]\n",
    "    minutes = hrs + mins + secs\n",
    "    return minutes"
   ]
  },
  {
   "cell_type": "code",
   "execution_count": 50,
   "id": "3f6a44d2-6579-46df-a673-fcc83087fd3d",
   "metadata": {},
   "outputs": [
    {
     "data": {
      "text/plain": [
       "['Activities_20250110.csv']"
      ]
     },
     "execution_count": 50,
     "metadata": {},
     "output_type": "execute_result"
    }
   ],
   "source": [
    "[x for x in os.listdir(path=os.path.join('.',datadir)) if x[-4:]=='.csv']"
   ]
  },
  {
   "cell_type": "code",
   "execution_count": 51,
   "id": "04963987-d463-4fa6-8b1e-7313439d25be",
   "metadata": {},
   "outputs": [],
   "source": [
    "fname = os.path.join('.', datadir, 'Activities_20250110.csv')"
   ]
  },
  {
   "cell_type": "code",
   "execution_count": 52,
   "id": "bae77406-5613-46dd-b722-690400225fb4",
   "metadata": {},
   "outputs": [
    {
     "data": {
      "text/html": [
       "<div>\n",
       "<style scoped>\n",
       "    .dataframe tbody tr th:only-of-type {\n",
       "        vertical-align: middle;\n",
       "    }\n",
       "\n",
       "    .dataframe tbody tr th {\n",
       "        vertical-align: top;\n",
       "    }\n",
       "\n",
       "    .dataframe thead th {\n",
       "        text-align: right;\n",
       "    }\n",
       "</style>\n",
       "<table border=\"1\" class=\"dataframe\">\n",
       "  <thead>\n",
       "    <tr style=\"text-align: right;\">\n",
       "      <th></th>\n",
       "      <th>Activity Type</th>\n",
       "      <th>Date</th>\n",
       "      <th>Favorite</th>\n",
       "      <th>Title</th>\n",
       "      <th>Distance</th>\n",
       "      <th>Calories</th>\n",
       "      <th>Time</th>\n",
       "      <th>Avg HR</th>\n",
       "      <th>Max HR</th>\n",
       "      <th>Aerobic TE</th>\n",
       "      <th>...</th>\n",
       "      <th>Steps</th>\n",
       "      <th>Total Reps</th>\n",
       "      <th>Total Sets</th>\n",
       "      <th>Decompression</th>\n",
       "      <th>Best Lap Time</th>\n",
       "      <th>Number of Laps</th>\n",
       "      <th>Moving Time</th>\n",
       "      <th>Elapsed Time</th>\n",
       "      <th>Min Elevation</th>\n",
       "      <th>Max Elevation</th>\n",
       "    </tr>\n",
       "  </thead>\n",
       "  <tbody>\n",
       "    <tr>\n",
       "      <th>0</th>\n",
       "      <td>Walking</td>\n",
       "      <td>2025-01-09 09:17:47</td>\n",
       "      <td>False</td>\n",
       "      <td>McHenry County Walking</td>\n",
       "      <td>2.90</td>\n",
       "      <td>244</td>\n",
       "      <td>01:01:52</td>\n",
       "      <td>93</td>\n",
       "      <td>115</td>\n",
       "      <td>1.4</td>\n",
       "      <td>...</td>\n",
       "      <td>6,396</td>\n",
       "      <td>--</td>\n",
       "      <td>--</td>\n",
       "      <td>No</td>\n",
       "      <td>00:18:27</td>\n",
       "      <td>3</td>\n",
       "      <td>00:51:47</td>\n",
       "      <td>01:01:52</td>\n",
       "      <td>622</td>\n",
       "      <td>979</td>\n",
       "    </tr>\n",
       "    <tr>\n",
       "      <th>1</th>\n",
       "      <td>Running</td>\n",
       "      <td>2025-01-07 16:47:46</td>\n",
       "      <td>False</td>\n",
       "      <td>Madison Running</td>\n",
       "      <td>2.04</td>\n",
       "      <td>188</td>\n",
       "      <td>00:19:50</td>\n",
       "      <td>161</td>\n",
       "      <td>177</td>\n",
       "      <td>3.2</td>\n",
       "      <td>...</td>\n",
       "      <td>3,388</td>\n",
       "      <td>--</td>\n",
       "      <td>--</td>\n",
       "      <td>No</td>\n",
       "      <td>00:00:22.3</td>\n",
       "      <td>3</td>\n",
       "      <td>00:19:45</td>\n",
       "      <td>00:22:15</td>\n",
       "      <td>871</td>\n",
       "      <td>945</td>\n",
       "    </tr>\n",
       "    <tr>\n",
       "      <th>2</th>\n",
       "      <td>Indoor Cycling</td>\n",
       "      <td>2025-01-05 16:19:43</td>\n",
       "      <td>False</td>\n",
       "      <td>Indoor Cycling</td>\n",
       "      <td>0.00</td>\n",
       "      <td>199</td>\n",
       "      <td>00:33:16</td>\n",
       "      <td>129</td>\n",
       "      <td>165</td>\n",
       "      <td>2.2</td>\n",
       "      <td>...</td>\n",
       "      <td>--</td>\n",
       "      <td>--</td>\n",
       "      <td>--</td>\n",
       "      <td>No</td>\n",
       "      <td>00:33:16</td>\n",
       "      <td>1</td>\n",
       "      <td>00:00:00</td>\n",
       "      <td>00:33:16</td>\n",
       "      <td>--</td>\n",
       "      <td>--</td>\n",
       "    </tr>\n",
       "    <tr>\n",
       "      <th>3</th>\n",
       "      <td>Indoor Cycling</td>\n",
       "      <td>2024-12-31 21:57:48</td>\n",
       "      <td>False</td>\n",
       "      <td>Indoor Cycling</td>\n",
       "      <td>0.00</td>\n",
       "      <td>420</td>\n",
       "      <td>01:23:41</td>\n",
       "      <td>129</td>\n",
       "      <td>169</td>\n",
       "      <td>2.3</td>\n",
       "      <td>...</td>\n",
       "      <td>--</td>\n",
       "      <td>--</td>\n",
       "      <td>--</td>\n",
       "      <td>No</td>\n",
       "      <td>01:23:41</td>\n",
       "      <td>1</td>\n",
       "      <td>00:00:00</td>\n",
       "      <td>01:23:41</td>\n",
       "      <td>--</td>\n",
       "      <td>--</td>\n",
       "    </tr>\n",
       "    <tr>\n",
       "      <th>4</th>\n",
       "      <td>Walking</td>\n",
       "      <td>2024-12-31 12:28:08</td>\n",
       "      <td>False</td>\n",
       "      <td>McHenry County Walking</td>\n",
       "      <td>2.96</td>\n",
       "      <td>273</td>\n",
       "      <td>01:06:59</td>\n",
       "      <td>98</td>\n",
       "      <td>125</td>\n",
       "      <td>1.7</td>\n",
       "      <td>...</td>\n",
       "      <td>6,370</td>\n",
       "      <td>--</td>\n",
       "      <td>--</td>\n",
       "      <td>No</td>\n",
       "      <td>00:18:48</td>\n",
       "      <td>3</td>\n",
       "      <td>00:52:49</td>\n",
       "      <td>01:06:59</td>\n",
       "      <td>867</td>\n",
       "      <td>1,024</td>\n",
       "    </tr>\n",
       "  </tbody>\n",
       "</table>\n",
       "<p>5 rows × 28 columns</p>\n",
       "</div>"
      ],
      "text/plain": [
       "    Activity Type                 Date  Favorite                   Title  \\\n",
       "0         Walking  2025-01-09 09:17:47     False  McHenry County Walking   \n",
       "1         Running  2025-01-07 16:47:46     False         Madison Running   \n",
       "2  Indoor Cycling  2025-01-05 16:19:43     False          Indoor Cycling   \n",
       "3  Indoor Cycling  2024-12-31 21:57:48     False          Indoor Cycling   \n",
       "4         Walking  2024-12-31 12:28:08     False  McHenry County Walking   \n",
       "\n",
       "   Distance  Calories      Time Avg HR Max HR Aerobic TE  ...  Steps  \\\n",
       "0      2.90       244  01:01:52     93    115        1.4  ...  6,396   \n",
       "1      2.04       188  00:19:50    161    177        3.2  ...  3,388   \n",
       "2      0.00       199  00:33:16    129    165        2.2  ...     --   \n",
       "3      0.00       420  01:23:41    129    169        2.3  ...     --   \n",
       "4      2.96       273  01:06:59     98    125        1.7  ...  6,370   \n",
       "\n",
       "  Total Reps Total Sets Decompression Best Lap Time Number of Laps  \\\n",
       "0         --         --            No      00:18:27              3   \n",
       "1         --         --            No    00:00:22.3              3   \n",
       "2         --         --            No      00:33:16              1   \n",
       "3         --         --            No      01:23:41              1   \n",
       "4         --         --            No      00:18:48              3   \n",
       "\n",
       "  Moving Time  Elapsed Time Min Elevation Max Elevation  \n",
       "0    00:51:47      01:01:52           622           979  \n",
       "1    00:19:45      00:22:15           871           945  \n",
       "2    00:00:00      00:33:16            --            --  \n",
       "3    00:00:00      01:23:41            --            --  \n",
       "4    00:52:49      01:06:59           867         1,024  \n",
       "\n",
       "[5 rows x 28 columns]"
      ]
     },
     "execution_count": 52,
     "metadata": {},
     "output_type": "execute_result"
    }
   ],
   "source": [
    "garmin = pd.read_csv(fname)\n",
    "garmin.head()"
   ]
  },
  {
   "cell_type": "markdown",
   "id": "dd6eba01-701a-4793-96b5-78f91cca1cfc",
   "metadata": {},
   "source": [
    "## Cycling"
   ]
  },
  {
   "cell_type": "code",
   "execution_count": 120,
   "id": "b728f0d8-4ab3-4c14-abd3-5ae36af83839",
   "metadata": {},
   "outputs": [
    {
     "data": {
      "text/html": [
       "<div>\n",
       "<style scoped>\n",
       "    .dataframe tbody tr th:only-of-type {\n",
       "        vertical-align: middle;\n",
       "    }\n",
       "\n",
       "    .dataframe tbody tr th {\n",
       "        vertical-align: top;\n",
       "    }\n",
       "\n",
       "    .dataframe thead th {\n",
       "        text-align: right;\n",
       "    }\n",
       "</style>\n",
       "<table border=\"1\" class=\"dataframe\">\n",
       "  <thead>\n",
       "    <tr style=\"text-align: right;\">\n",
       "      <th></th>\n",
       "      <th>Activity Type</th>\n",
       "      <th>Date</th>\n",
       "      <th>Favorite</th>\n",
       "      <th>Title</th>\n",
       "      <th>Distance</th>\n",
       "      <th>Calories</th>\n",
       "      <th>Time</th>\n",
       "      <th>Avg HR</th>\n",
       "      <th>Max HR</th>\n",
       "      <th>Aerobic TE</th>\n",
       "      <th>...</th>\n",
       "      <th>Steps</th>\n",
       "      <th>Total Reps</th>\n",
       "      <th>Total Sets</th>\n",
       "      <th>Decompression</th>\n",
       "      <th>Best Lap Time</th>\n",
       "      <th>Number of Laps</th>\n",
       "      <th>Moving Time</th>\n",
       "      <th>Elapsed Time</th>\n",
       "      <th>Min Elevation</th>\n",
       "      <th>Max Elevation</th>\n",
       "    </tr>\n",
       "  </thead>\n",
       "  <tbody>\n",
       "    <tr>\n",
       "      <th>12</th>\n",
       "      <td>Cycling</td>\n",
       "      <td>2024-12-09 14:46:28</td>\n",
       "      <td>False</td>\n",
       "      <td>Madison Cycling</td>\n",
       "      <td>20.26</td>\n",
       "      <td>372</td>\n",
       "      <td>01:26:53</td>\n",
       "      <td>121</td>\n",
       "      <td>147</td>\n",
       "      <td>2.1</td>\n",
       "      <td>...</td>\n",
       "      <td>--</td>\n",
       "      <td>--</td>\n",
       "      <td>--</td>\n",
       "      <td>No</td>\n",
       "      <td>00:01:07.6</td>\n",
       "      <td>5</td>\n",
       "      <td>01:25:58</td>\n",
       "      <td>01:34:40</td>\n",
       "      <td>846</td>\n",
       "      <td>915</td>\n",
       "    </tr>\n",
       "    <tr>\n",
       "      <th>13</th>\n",
       "      <td>Cycling</td>\n",
       "      <td>2024-12-08 19:58:19</td>\n",
       "      <td>False</td>\n",
       "      <td>Madison Cycling</td>\n",
       "      <td>2.90</td>\n",
       "      <td>84</td>\n",
       "      <td>00:13:08</td>\n",
       "      <td>135</td>\n",
       "      <td>172</td>\n",
       "      <td>2.4</td>\n",
       "      <td>...</td>\n",
       "      <td>--</td>\n",
       "      <td>--</td>\n",
       "      <td>--</td>\n",
       "      <td>No</td>\n",
       "      <td>00:13:08</td>\n",
       "      <td>1</td>\n",
       "      <td>00:12:20</td>\n",
       "      <td>03:21:03</td>\n",
       "      <td>622</td>\n",
       "      <td>929</td>\n",
       "    </tr>\n",
       "    <tr>\n",
       "      <th>14</th>\n",
       "      <td>Cycling</td>\n",
       "      <td>2024-12-07 22:28:02</td>\n",
       "      <td>False</td>\n",
       "      <td>Madison Cycling</td>\n",
       "      <td>1.38</td>\n",
       "      <td>43</td>\n",
       "      <td>00:07:00.9</td>\n",
       "      <td>126</td>\n",
       "      <td>153</td>\n",
       "      <td>1.4</td>\n",
       "      <td>...</td>\n",
       "      <td>--</td>\n",
       "      <td>--</td>\n",
       "      <td>--</td>\n",
       "      <td>No</td>\n",
       "      <td>00:07:00.9</td>\n",
       "      <td>1</td>\n",
       "      <td>00:06:50</td>\n",
       "      <td>00:07:17.9</td>\n",
       "      <td>850</td>\n",
       "      <td>918</td>\n",
       "    </tr>\n",
       "    <tr>\n",
       "      <th>15</th>\n",
       "      <td>Cycling</td>\n",
       "      <td>2024-12-07 10:45:34</td>\n",
       "      <td>False</td>\n",
       "      <td>Madison Cycling</td>\n",
       "      <td>3.47</td>\n",
       "      <td>138</td>\n",
       "      <td>00:16:35</td>\n",
       "      <td>152</td>\n",
       "      <td>178</td>\n",
       "      <td>2.8</td>\n",
       "      <td>...</td>\n",
       "      <td>--</td>\n",
       "      <td>--</td>\n",
       "      <td>--</td>\n",
       "      <td>No</td>\n",
       "      <td>00:16:35</td>\n",
       "      <td>1</td>\n",
       "      <td>00:16:12</td>\n",
       "      <td>00:19:53</td>\n",
       "      <td>860</td>\n",
       "      <td>904</td>\n",
       "    </tr>\n",
       "    <tr>\n",
       "      <th>17</th>\n",
       "      <td>Cycling</td>\n",
       "      <td>2024-12-04 07:39:33</td>\n",
       "      <td>False</td>\n",
       "      <td>Madison Cycling</td>\n",
       "      <td>3.13</td>\n",
       "      <td>95</td>\n",
       "      <td>00:15:50</td>\n",
       "      <td>128</td>\n",
       "      <td>149</td>\n",
       "      <td>1.6</td>\n",
       "      <td>...</td>\n",
       "      <td>--</td>\n",
       "      <td>--</td>\n",
       "      <td>--</td>\n",
       "      <td>No</td>\n",
       "      <td>00:15:50</td>\n",
       "      <td>1</td>\n",
       "      <td>00:14:57</td>\n",
       "      <td>02:22:54</td>\n",
       "      <td>860</td>\n",
       "      <td>973</td>\n",
       "    </tr>\n",
       "  </tbody>\n",
       "</table>\n",
       "<p>5 rows × 28 columns</p>\n",
       "</div>"
      ],
      "text/plain": [
       "   Activity Type                 Date  Favorite            Title  Distance  \\\n",
       "12       Cycling  2024-12-09 14:46:28     False  Madison Cycling     20.26   \n",
       "13       Cycling  2024-12-08 19:58:19     False  Madison Cycling      2.90   \n",
       "14       Cycling  2024-12-07 22:28:02     False  Madison Cycling      1.38   \n",
       "15       Cycling  2024-12-07 10:45:34     False  Madison Cycling      3.47   \n",
       "17       Cycling  2024-12-04 07:39:33     False  Madison Cycling      3.13   \n",
       "\n",
       "    Calories        Time Avg HR Max HR Aerobic TE  ... Steps Total Reps  \\\n",
       "12       372    01:26:53    121    147        2.1  ...    --         --   \n",
       "13        84    00:13:08    135    172        2.4  ...    --         --   \n",
       "14        43  00:07:00.9    126    153        1.4  ...    --         --   \n",
       "15       138    00:16:35    152    178        2.8  ...    --         --   \n",
       "17        95    00:15:50    128    149        1.6  ...    --         --   \n",
       "\n",
       "   Total Sets Decompression Best Lap Time Number of Laps Moving Time  \\\n",
       "12         --            No    00:01:07.6              5    01:25:58   \n",
       "13         --            No      00:13:08              1    00:12:20   \n",
       "14         --            No    00:07:00.9              1    00:06:50   \n",
       "15         --            No      00:16:35              1    00:16:12   \n",
       "17         --            No      00:15:50              1    00:14:57   \n",
       "\n",
       "    Elapsed Time Min Elevation Max Elevation  \n",
       "12      01:34:40           846           915  \n",
       "13      03:21:03           622           929  \n",
       "14    00:07:17.9           850           918  \n",
       "15      00:19:53           860           904  \n",
       "17      02:22:54           860           973  \n",
       "\n",
       "[5 rows x 28 columns]"
      ]
     },
     "execution_count": 120,
     "metadata": {},
     "output_type": "execute_result"
    }
   ],
   "source": [
    "sport_label = 'Cycling'\n",
    "sport = garmin[garmin['Activity Type'] == sport_label]\n",
    "sport.head()"
   ]
  },
  {
   "cell_type": "code",
   "execution_count": 121,
   "id": "a1244242-447e-48b1-8758-481d31f52f56",
   "metadata": {},
   "outputs": [
    {
     "data": {
      "text/plain": [
       "12    00:01:07.6\n",
       "13      00:13:08\n",
       "14    00:07:00.9\n",
       "15      00:16:35\n",
       "17      00:15:50\n",
       "Name: Best Lap Time, dtype: object"
      ]
     },
     "execution_count": 121,
     "metadata": {},
     "output_type": "execute_result"
    }
   ],
   "source": [
    "sport['Best Lap Time'].head()"
   ]
  },
  {
   "cell_type": "code",
   "execution_count": 122,
   "id": "b24b4020-3a37-4425-a5d2-a1f9902b90cf",
   "metadata": {},
   "outputs": [
    {
     "data": {
      "text/plain": [
       "pandas.core.series.Series"
      ]
     },
     "execution_count": 122,
     "metadata": {},
     "output_type": "execute_result"
    }
   ],
   "source": [
    "type(sport['Avg HR'])"
   ]
  },
  {
   "cell_type": "code",
   "execution_count": 123,
   "id": "80923eeb-66ab-4cd3-9e9c-b662a6e23b23",
   "metadata": {},
   "outputs": [
    {
     "data": {
      "text/plain": [
       "[1.1266666666666667,\n",
       " 13.133333333333333,\n",
       " 7.015,\n",
       " 16.583333333333332,\n",
       " 15.833333333333334]"
      ]
     },
     "execution_count": 123,
     "metadata": {},
     "output_type": "execute_result"
    }
   ],
   "source": [
    "[digital_time_to_minutes(t) for t in np.array(sport['Best Lap Time'])][:5]"
   ]
  },
  {
   "cell_type": "code",
   "execution_count": 124,
   "id": "0a3c5b1a-83c9-4e9e-9805-92dc06c75acf",
   "metadata": {},
   "outputs": [
    {
     "data": {
      "text/plain": [
       "<matplotlib.legend.Legend at 0x21dce6c9310>"
      ]
     },
     "execution_count": 124,
     "metadata": {},
     "output_type": "execute_result"
    },
    {
     "data": {
      "image/png": "[encoded data removed]",
      "text/plain": [
       "<Figure size 640x480 with 1 Axes>"
      ]
     },
     "metadata": {},
     "output_type": "display_data"
    },
    {
     "data": {
      "image/png": "[encoded data removed]",
      "text/plain": [
       "<Figure size 640x480 with 1 Axes>"
      ]
     },
     "metadata": {},
     "output_type": "display_data"
    },
    {
     "data": {
      "image/png": "[encoded data removed]",
      "text/plain": [
       "<Figure size 640x480 with 1 Axes>"
      ]
     },
     "metadata": {},
     "output_type": "display_data"
    }
   ],
   "source": [
    "distance = np.array(sport['Distance'].astype(float))\n",
    "\n",
    "fig,ax = plt.subplots()\n",
    "ax.hist(distance, bins=20, color='crimson')\n",
    "ax.set_title(sport_label + \" distance\")\n",
    "ax.set_ylabel(\"occurrences\")\n",
    "ax.set_xlabel(\"distance (miles)\")\n",
    "\n",
    "avg_hr = np.array(sport['Avg HR'][sport['Avg HR'] != '--'].astype(float))\n",
    "max_hr = np.array(sport['Max HR'][sport['Max HR'] != '--'].astype(float))\n",
    "\n",
    "fig,ax = plt.subplots()\n",
    "ax.hist(avg_hr, bins=20, color='darkblue',alpha=0.5,label='avg.')\n",
    "ax.hist(max_hr, bins=20, color='cornflowerblue',alpha=0.5,label='max')\n",
    "ax.axvline(np.mean(avg_hr), color='darkblue', label='mean(avg.)',ls='--')\n",
    "ax.axvline(np.mean(max_hr), color='cornflowerblue', label='mean(max)',ls='--')\n",
    "ax.set_title(sport_label + \" heart rate\")\n",
    "ax.set_ylabel(\"occurrences\")\n",
    "ax.set_xlabel(\"Heart rate (BPM)\")\n",
    "ax.legend(frameon=False)\n",
    "\n",
    "duration = np.array([digital_time_to_minutes(x) for x in sport['Time']])\n",
    "\n",
    "fig,ax = plt.subplots()\n",
    "ax.hist(duration, bins=20, color='plum',alpha=0.5,label='avg.')\n",
    "ax.axvline(np.mean(duration), color='plum', label='mean',ls='--')\n",
    "ax.set_title(sport_label + \" duration\")\n",
    "ax.set_ylabel(\"occurrences\")\n",
    "ax.set_xlabel(\"Duration (minutes)\")\n",
    "ax.legend(frameon=False)"
   ]
  },
  {
   "cell_type": "markdown",
   "id": "a8a1d3d1-1f0d-45bd-a10b-fcec3af19db5",
   "metadata": {},
   "source": [
    "## Running"
   ]
  },
  {
   "cell_type": "code",
   "execution_count": 113,
   "id": "a72b501a-d0f7-488f-a5be-5118ddadf8e0",
   "metadata": {},
   "outputs": [
    {
     "data": {
      "text/html": [
       "<div>\n",
       "<style scoped>\n",
       "    .dataframe tbody tr th:only-of-type {\n",
       "        vertical-align: middle;\n",
       "    }\n",
       "\n",
       "    .dataframe tbody tr th {\n",
       "        vertical-align: top;\n",
       "    }\n",
       "\n",
       "    .dataframe thead th {\n",
       "        text-align: right;\n",
       "    }\n",
       "</style>\n",
       "<table border=\"1\" class=\"dataframe\">\n",
       "  <thead>\n",
       "    <tr style=\"text-align: right;\">\n",
       "      <th></th>\n",
       "      <th>Activity Type</th>\n",
       "      <th>Date</th>\n",
       "      <th>Favorite</th>\n",
       "      <th>Title</th>\n",
       "      <th>Distance</th>\n",
       "      <th>Calories</th>\n",
       "      <th>Time</th>\n",
       "      <th>Avg HR</th>\n",
       "      <th>Max HR</th>\n",
       "      <th>Aerobic TE</th>\n",
       "      <th>...</th>\n",
       "      <th>Steps</th>\n",
       "      <th>Total Reps</th>\n",
       "      <th>Total Sets</th>\n",
       "      <th>Decompression</th>\n",
       "      <th>Best Lap Time</th>\n",
       "      <th>Number of Laps</th>\n",
       "      <th>Moving Time</th>\n",
       "      <th>Elapsed Time</th>\n",
       "      <th>Min Elevation</th>\n",
       "      <th>Max Elevation</th>\n",
       "    </tr>\n",
       "  </thead>\n",
       "  <tbody>\n",
       "    <tr>\n",
       "      <th>1</th>\n",
       "      <td>Running</td>\n",
       "      <td>2025-01-07 16:47:46</td>\n",
       "      <td>False</td>\n",
       "      <td>Madison Running</td>\n",
       "      <td>2.04</td>\n",
       "      <td>188</td>\n",
       "      <td>00:19:50</td>\n",
       "      <td>161</td>\n",
       "      <td>177</td>\n",
       "      <td>3.2</td>\n",
       "      <td>...</td>\n",
       "      <td>3,388</td>\n",
       "      <td>--</td>\n",
       "      <td>--</td>\n",
       "      <td>No</td>\n",
       "      <td>00:00:22.3</td>\n",
       "      <td>3</td>\n",
       "      <td>00:19:45</td>\n",
       "      <td>00:22:15</td>\n",
       "      <td>871</td>\n",
       "      <td>945</td>\n",
       "    </tr>\n",
       "    <tr>\n",
       "      <th>6</th>\n",
       "      <td>Running</td>\n",
       "      <td>2024-12-29 08:41:40</td>\n",
       "      <td>False</td>\n",
       "      <td>McHenry County Running</td>\n",
       "      <td>0.13</td>\n",
       "      <td>7</td>\n",
       "      <td>00:01:00.8</td>\n",
       "      <td>107</td>\n",
       "      <td>112</td>\n",
       "      <td>0.3</td>\n",
       "      <td>...</td>\n",
       "      <td>176</td>\n",
       "      <td>--</td>\n",
       "      <td>--</td>\n",
       "      <td>No</td>\n",
       "      <td>00:01:00.8</td>\n",
       "      <td>1</td>\n",
       "      <td>00:00:57</td>\n",
       "      <td>00:01:00.8</td>\n",
       "      <td>962</td>\n",
       "      <td>980</td>\n",
       "    </tr>\n",
       "    <tr>\n",
       "      <th>7</th>\n",
       "      <td>Running</td>\n",
       "      <td>2024-12-26 15:55:35</td>\n",
       "      <td>False</td>\n",
       "      <td>McHenry County Running</td>\n",
       "      <td>5.36</td>\n",
       "      <td>478</td>\n",
       "      <td>00:46:13</td>\n",
       "      <td>179</td>\n",
       "      <td>191</td>\n",
       "      <td>5.0</td>\n",
       "      <td>...</td>\n",
       "      <td>7,716</td>\n",
       "      <td>--</td>\n",
       "      <td>--</td>\n",
       "      <td>No</td>\n",
       "      <td>00:03:04.4</td>\n",
       "      <td>6</td>\n",
       "      <td>00:46:09</td>\n",
       "      <td>00:49:34</td>\n",
       "      <td>866</td>\n",
       "      <td>980</td>\n",
       "    </tr>\n",
       "    <tr>\n",
       "      <th>8</th>\n",
       "      <td>Running</td>\n",
       "      <td>2024-12-24 16:10:23</td>\n",
       "      <td>False</td>\n",
       "      <td>McHenry County Running</td>\n",
       "      <td>2.76</td>\n",
       "      <td>234</td>\n",
       "      <td>00:23:27</td>\n",
       "      <td>167</td>\n",
       "      <td>185</td>\n",
       "      <td>4.1</td>\n",
       "      <td>...</td>\n",
       "      <td>3,928</td>\n",
       "      <td>--</td>\n",
       "      <td>--</td>\n",
       "      <td>No</td>\n",
       "      <td>00:06:21.9</td>\n",
       "      <td>3</td>\n",
       "      <td>00:23:27</td>\n",
       "      <td>00:25:13</td>\n",
       "      <td>887</td>\n",
       "      <td>980</td>\n",
       "    </tr>\n",
       "    <tr>\n",
       "      <th>11</th>\n",
       "      <td>Running</td>\n",
       "      <td>2024-12-16 21:49:35</td>\n",
       "      <td>False</td>\n",
       "      <td>Madison Running</td>\n",
       "      <td>0.05</td>\n",
       "      <td>3</td>\n",
       "      <td>00:00:29.4</td>\n",
       "      <td>111</td>\n",
       "      <td>122</td>\n",
       "      <td>0.1</td>\n",
       "      <td>...</td>\n",
       "      <td>72</td>\n",
       "      <td>--</td>\n",
       "      <td>--</td>\n",
       "      <td>No</td>\n",
       "      <td>00:00:29.4</td>\n",
       "      <td>1</td>\n",
       "      <td>00:00:28</td>\n",
       "      <td>00:00:29.4</td>\n",
       "      <td>856</td>\n",
       "      <td>857</td>\n",
       "    </tr>\n",
       "  </tbody>\n",
       "</table>\n",
       "<p>5 rows × 28 columns</p>\n",
       "</div>"
      ],
      "text/plain": [
       "   Activity Type                 Date  Favorite                   Title  \\\n",
       "1        Running  2025-01-07 16:47:46     False         Madison Running   \n",
       "6        Running  2024-12-29 08:41:40     False  McHenry County Running   \n",
       "7        Running  2024-12-26 15:55:35     False  McHenry County Running   \n",
       "8        Running  2024-12-24 16:10:23     False  McHenry County Running   \n",
       "11       Running  2024-12-16 21:49:35     False         Madison Running   \n",
       "\n",
       "    Distance  Calories        Time Avg HR Max HR Aerobic TE  ...  Steps  \\\n",
       "1       2.04       188    00:19:50    161    177        3.2  ...  3,388   \n",
       "6       0.13         7  00:01:00.8    107    112        0.3  ...    176   \n",
       "7       5.36       478    00:46:13    179    191        5.0  ...  7,716   \n",
       "8       2.76       234    00:23:27    167    185        4.1  ...  3,928   \n",
       "11      0.05         3  00:00:29.4    111    122        0.1  ...     72   \n",
       "\n",
       "   Total Reps Total Sets Decompression Best Lap Time Number of Laps  \\\n",
       "1          --         --            No    00:00:22.3              3   \n",
       "6          --         --            No    00:01:00.8              1   \n",
       "7          --         --            No    00:03:04.4              6   \n",
       "8          --         --            No    00:06:21.9              3   \n",
       "11         --         --            No    00:00:29.4              1   \n",
       "\n",
       "   Moving Time  Elapsed Time Min Elevation Max Elevation  \n",
       "1     00:19:45      00:22:15           871           945  \n",
       "6     00:00:57    00:01:00.8           962           980  \n",
       "7     00:46:09      00:49:34           866           980  \n",
       "8     00:23:27      00:25:13           887           980  \n",
       "11    00:00:28    00:00:29.4           856           857  \n",
       "\n",
       "[5 rows x 28 columns]"
      ]
     },
     "execution_count": 113,
     "metadata": {},
     "output_type": "execute_result"
    }
   ],
   "source": [
    "sport_label = 'Running'\n",
    "sport = garmin[garmin['Activity Type'] == sport_label]\n",
    "sport.head()"
   ]
  },
  {
   "cell_type": "code",
   "execution_count": 114,
   "id": "3e1ae7e0-ddd2-4fa4-a374-bb265eee1e9b",
   "metadata": {},
   "outputs": [
    {
     "data": {
      "text/plain": [
       "1     00:00:22.3\n",
       "6     00:01:00.8\n",
       "7     00:03:04.4\n",
       "8     00:06:21.9\n",
       "11    00:00:29.4\n",
       "Name: Best Lap Time, dtype: object"
      ]
     },
     "execution_count": 114,
     "metadata": {},
     "output_type": "execute_result"
    }
   ],
   "source": [
    "sport['Best Lap Time'].head()"
   ]
  },
  {
   "cell_type": "code",
   "execution_count": 115,
   "id": "3342125a-9efb-4abb-9892-fd49357323e7",
   "metadata": {},
   "outputs": [
    {
     "data": {
      "text/plain": [
       "pandas.core.series.Series"
      ]
     },
     "execution_count": 115,
     "metadata": {},
     "output_type": "execute_result"
    }
   ],
   "source": [
    "type(sport['Avg HR'])"
   ]
  },
  {
   "cell_type": "code",
   "execution_count": 116,
   "id": "fa2a2170-4054-4931-be5a-cadb3d9c5fa7",
   "metadata": {},
   "outputs": [
    {
     "data": {
      "text/plain": [
       "[0.3716666666666667, 1.0133333333333334, 3.0733333333333333, 6.365, 0.49]"
      ]
     },
     "execution_count": 116,
     "metadata": {},
     "output_type": "execute_result"
    }
   ],
   "source": [
    "[digital_time_to_minutes(t) for t in np.array(sport['Best Lap Time'])][:5]"
   ]
  },
  {
   "cell_type": "code",
   "execution_count": 118,
   "id": "0b702ed5-3340-4aaa-8039-aa7ce15c48fb",
   "metadata": {},
   "outputs": [
    {
     "data": {
      "text/plain": [
       "<matplotlib.legend.Legend at 0x21dd00e1310>"
      ]
     },
     "execution_count": 118,
     "metadata": {},
     "output_type": "execute_result"
    },
    {
     "data": {
      "image/png": "[encoded data removed]",
      "text/plain": [
       "<Figure size 640x480 with 1 Axes>"
      ]
     },
     "metadata": {},
     "output_type": "display_data"
    },
    {
     "data": {
      "image/png": "[encoded data removed]",
      "text/plain": [
       "<Figure size 640x480 with 1 Axes>"
      ]
     },
     "metadata": {},
     "output_type": "display_data"
    },
    {
     "data": {
      "image/png": "[encoded data removed]",
      "text/plain": [
       "<Figure size 640x480 with 1 Axes>"
      ]
     },
     "metadata": {},
     "output_type": "display_data"
    }
   ],
   "source": [
    "distance = np.array(sport['Distance'].astype(float))\n",
    "\n",
    "fig,ax = plt.subplots()\n",
    "ax.hist(distance, bins=20, color='crimson')\n",
    "ax.set_title(sport_label + \" distance\")\n",
    "ax.set_ylabel(\"occurrences\")\n",
    "ax.set_xlabel(\"distance (miles)\")\n",
    "\n",
    "avg_hr = np.array(sport['Avg HR'][sport['Avg HR'] != '--'].astype(float))\n",
    "max_hr = np.array(sport['Max HR'][sport['Max HR'] != '--'].astype(float))\n",
    "\n",
    "fig,ax = plt.subplots()\n",
    "ax.hist(avg_hr, bins=20, color='darkblue',alpha=0.5,label='avg.')\n",
    "ax.hist(max_hr, bins=20, color='cornflowerblue',alpha=0.5,label='max')\n",
    "ax.axvline(np.mean(avg_hr), color='darkblue', label='mean(avg.)',ls='--')\n",
    "ax.axvline(np.mean(max_hr), color='cornflowerblue', label='mean(max)',ls='--')\n",
    "ax.set_title(sport_label + \" heart rate\")\n",
    "ax.set_ylabel(\"occurrences\")\n",
    "ax.set_xlabel(\"Heart rate (BPM)\")\n",
    "ax.legend(frameon=False)\n",
    "\n",
    "fig,ax = plt.subplots()\n",
    "ax.hist(duration, bins=20, color='plum',alpha=0.5,label='avg.')\n",
    "ax.axvline(np.mean(duration), color='plum', label='mean',ls='--')\n",
    "ax.set_title(sport_label + \" duration\")\n",
    "ax.set_ylabel(\"occurrences\")\n",
    "ax.set_xlabel(\"Duration (minutes)\")\n",
    "ax.legend(frameon=False)"
   ]
  },
  {
   "cell_type": "code",
   "execution_count": null,
   "id": "d233fe90-0d59-4954-b614-7b9e28fb0227",
   "metadata": {},
   "outputs": [],
   "source": []
  }
 ],
 "metadata": {
  "kernelspec": {
   "display_name": "Python 3 (ipykernel)",
   "language": "python",
   "name": "python3"
  },
  "language_info": {
   "codemirror_mode": {
    "name": "ipython",
    "version": 3
   },
   "file_extension": ".py",
   "mimetype": "text/x-python",
   "name": "python",
   "nbconvert_exporter": "python",
   "pygments_lexer": "ipython3",
   "version": "3.13.0"
  }
 },
 "nbformat": 4,
 "nbformat_minor": 5
}
