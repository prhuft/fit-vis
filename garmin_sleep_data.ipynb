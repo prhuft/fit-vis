{
 "cells": [
  {
   "cell_type": "markdown",
   "id": "f83d43ab-41f4-448b-b669-8b748cb9926e",
   "metadata": {},
   "source": [
    "Notebook for viewing detailed activity data.\n",
    "\n",
    "Data obtained by requesting a comprehensive data export from Garmin (https://www.garmin.com/en-US/account/datamanagement/exportdata)."
   ]
  },
  {
   "cell_type": "code",
   "execution_count": 2,
   "id": "453a2ad9-ad25-4b56-877b-5eab6168e782",
   "metadata": {},
   "outputs": [],
   "source": [
    "import matplotlib.pyplot as plt\n",
    "import numpy as np\n",
    "import csv\n",
    "import os, sys\n",
    "import pandas as pd\n",
    "import json\n",
    "\n",
    "datadir = 'data'\n",
    "\n",
    "def digital_time_to_minutes(timestr):\n",
    "    to_minutes = [60,1,1/60]\n",
    "    hrs,mins,secs = [conv*float(x) for x,conv in zip(timestr.split(':'), to_minutes)]\n",
    "    minutes = hrs + mins + secs\n",
    "    return minutes"
   ]
  },
  {
   "cell_type": "markdown",
   "id": "f8568654-a87e-4060-824a-d77ada877535",
   "metadata": {},
   "source": [
    "## explore Garmin data file structure - run first"
   ]
  },
  {
   "cell_type": "code",
   "execution_count": 3,
   "id": "9a93452d-6a0d-4e00-aa91-d98c7bc701a8",
   "metadata": {},
   "outputs": [
    {
     "data": {
      "text/plain": [
       "['Activities_20250110.csv', 'garmin_data_20250114', 'garmin_data_20250114.zip']"
      ]
     },
     "execution_count": 3,
     "metadata": {},
     "output_type": "execute_result"
    }
   ],
   "source": [
    "os.listdir('./data/')"
   ]
  },
  {
   "cell_type": "code",
   "execution_count": 4,
   "id": "c9138e7b-64ec-477b-af4f-aacbd4a9792a",
   "metadata": {},
   "outputs": [
    {
     "data": {
      "text/plain": [
       "['DI-Connect-Aggregator',\n",
       " 'DI-Connect-Fitness',\n",
       " 'DI-Connect-Metrics',\n",
       " 'DI-Connect-Uploaded-Files',\n",
       " 'DI-Connect-User',\n",
       " 'DI-Connect-Wellness',\n",
       " 'DI-GOLF']"
      ]
     },
     "execution_count": 4,
     "metadata": {},
     "output_type": "execute_result"
    }
   ],
   "source": [
    "connect_dir = './data/garmin_data_20250114/DI_CONNECT'\n",
    "os.listdir(connect_dir)"
   ]
  },
  {
   "cell_type": "markdown",
   "id": "391af145-ec4e-4667-af99-4c176147b45a",
   "metadata": {},
   "source": [
    "### Wellness"
   ]
  },
  {
   "cell_type": "code",
   "execution_count": 5,
   "id": "3f0e41c1-ee4f-4f22-ab36-dcb245941ea2",
   "metadata": {},
   "outputs": [
    {
     "name": "stdout",
     "output_type": "stream",
     "text": [
      "116924331_bioMetrics_latest.json 4 B\n",
      "116924331_heartRateZones.json 213 B\n",
      "116924331_userBioMetricProfileData.json 62 B\n",
      "116924331_userBioMetrics.json 74648 B\n",
      "2023-08-30_2023-12-08_116924331_sleepData.json 34908 B\n",
      "2023-12-08_2024-03-17_116924331_sleepData.json 57275 B\n",
      "2024-03-17_2024-06-25_116924331_sleepData.json 57596 B\n",
      "2024-06-25_2024-10-03_116924331_sleepData.json 59062 B\n",
      "2024-10-03_2025-01-11_116924331_sleepData.json 60521 B\n"
     ]
    }
   ],
   "source": [
    "subdir = os.path.join(connect_dir, 'DI-Connect-Wellness')\n",
    "files = os.listdir(subdir)\n",
    "sizes = [os.path.getsize(os.path.join(subdir,f)) for f in files]\n",
    "for f,s in zip(files,sizes):\n",
    "    print(f,s, \"B\")"
   ]
  },
  {
   "cell_type": "code",
   "execution_count": 6,
   "id": "41494fee-59fe-45e5-a5f9-7aabfb50fcd3",
   "metadata": {
    "scrolled": true
   },
   "outputs": [
    {
     "name": "stdout",
     "output_type": "stream",
     "text": [
      "['sleepStartTimestampGMT', 'sleepEndTimestampGMT', 'calendarDate', 'sleepWindowConfirmationType', 'deepSleepSeconds', 'lightSleepSeconds', 'remSleepSeconds', 'awakeSleepSeconds', 'unmeasurableSeconds', 'spo2SleepSummary', 'averageRespiration', 'lowestRespiration', 'highestRespiration', 'retro']\n",
      "['sleepStartTimestampGMT', 'sleepEndTimestampGMT', 'calendarDate', 'sleepWindowConfirmationType', 'deepSleepSeconds', 'lightSleepSeconds', 'remSleepSeconds', 'awakeSleepSeconds', 'unmeasurableSeconds', 'spo2SleepSummary', 'averageRespiration', 'lowestRespiration', 'highestRespiration', 'retro']\n",
      "['sleepStartTimestampGMT', 'sleepEndTimestampGMT', 'calendarDate', 'sleepWindowConfirmationType', 'deepSleepSeconds', 'lightSleepSeconds', 'remSleepSeconds', 'awakeSleepSeconds', 'unmeasurableSeconds', 'spo2SleepSummary', 'averageRespiration', 'lowestRespiration', 'highestRespiration', 'retro']\n",
      "['sleepStartTimestampGMT', 'sleepEndTimestampGMT', 'calendarDate', 'sleepWindowConfirmationType', 'deepSleepSeconds', 'lightSleepSeconds', 'remSleepSeconds', 'awakeSleepSeconds', 'unmeasurableSeconds', 'spo2SleepSummary', 'averageRespiration', 'lowestRespiration', 'highestRespiration', 'retro']\n",
      "['sleepStartTimestampGMT', 'sleepEndTimestampGMT', 'calendarDate', 'sleepWindowConfirmationType', 'deepSleepSeconds', 'lightSleepSeconds', 'remSleepSeconds', 'awakeSleepSeconds', 'unmeasurableSeconds', 'spo2SleepSummary', 'averageRespiration', 'lowestRespiration', 'highestRespiration', 'retro']\n",
      "['sleepStartTimestampGMT', 'sleepEndTimestampGMT', 'calendarDate', 'sleepWindowConfirmationType', 'deepSleepSeconds', 'lightSleepSeconds', 'remSleepSeconds', 'awakeSleepSeconds', 'unmeasurableSeconds', 'spo2SleepSummary', 'averageRespiration', 'lowestRespiration', 'highestRespiration', 'retro']\n",
      "['sleepStartTimestampGMT', 'sleepEndTimestampGMT', 'calendarDate', 'sleepWindowConfirmationType', 'deepSleepSeconds', 'lightSleepSeconds', 'remSleepSeconds', 'awakeSleepSeconds', 'unmeasurableSeconds', 'spo2SleepSummary', 'averageRespiration', 'lowestRespiration', 'highestRespiration', 'retro']\n",
      "['sleepStartTimestampGMT', 'sleepEndTimestampGMT', 'calendarDate', 'sleepWindowConfirmationType', 'deepSleepSeconds', 'lightSleepSeconds', 'remSleepSeconds', 'awakeSleepSeconds', 'unmeasurableSeconds', 'spo2SleepSummary', 'averageRespiration', 'lowestRespiration', 'highestRespiration', 'retro']\n",
      "['sleepStartTimestampGMT', 'sleepEndTimestampGMT', 'calendarDate', 'sleepWindowConfirmationType', 'deepSleepSeconds', 'lightSleepSeconds', 'remSleepSeconds', 'awakeSleepSeconds', 'unmeasurableSeconds', 'spo2SleepSummary', 'averageRespiration', 'lowestRespiration', 'highestRespiration', 'retro']\n",
      "['sleepStartTimestampGMT', 'sleepEndTimestampGMT', 'calendarDate', 'sleepWindowConfirmationType', 'deepSleepSeconds', 'lightSleepSeconds', 'remSleepSeconds', 'awakeSleepSeconds', 'unmeasurableSeconds', 'spo2SleepSummary', 'averageRespiration', 'lowestRespiration', 'highestRespiration', 'retro']\n",
      "['sleepStartTimestampGMT', 'sleepEndTimestampGMT', 'calendarDate', 'sleepWindowConfirmationType', 'deepSleepSeconds', 'lightSleepSeconds', 'remSleepSeconds', 'awakeSleepSeconds', 'unmeasurableSeconds', 'spo2SleepSummary', 'averageRespiration', 'lowestRespiration', 'highestRespiration', 'retro']\n",
      "['sleepStartTimestampGMT', 'sleepEndTimestampGMT', 'calendarDate', 'sleepWindowConfirmationType', 'deepSleepSeconds', 'lightSleepSeconds', 'remSleepSeconds', 'awakeSleepSeconds', 'unmeasurableSeconds', 'spo2SleepSummary', 'averageRespiration', 'lowestRespiration', 'highestRespiration', 'retro']\n",
      "['sleepStartTimestampGMT', 'sleepEndTimestampGMT', 'calendarDate', 'sleepWindowConfirmationType', 'deepSleepSeconds', 'lightSleepSeconds', 'remSleepSeconds', 'awakeSleepSeconds', 'unmeasurableSeconds', 'spo2SleepSummary', 'averageRespiration', 'lowestRespiration', 'highestRespiration', 'retro']\n",
      "['sleepStartTimestampGMT', 'sleepEndTimestampGMT', 'calendarDate', 'sleepWindowConfirmationType', 'deepSleepSeconds', 'lightSleepSeconds', 'remSleepSeconds', 'awakeSleepSeconds', 'unmeasurableSeconds', 'spo2SleepSummary', 'averageRespiration', 'lowestRespiration', 'highestRespiration', 'retro']\n",
      "['sleepStartTimestampGMT', 'sleepEndTimestampGMT', 'calendarDate', 'sleepWindowConfirmationType', 'deepSleepSeconds', 'lightSleepSeconds', 'remSleepSeconds', 'awakeSleepSeconds', 'unmeasurableSeconds', 'spo2SleepSummary', 'averageRespiration', 'lowestRespiration', 'highestRespiration', 'retro']\n",
      "['sleepStartTimestampGMT', 'sleepEndTimestampGMT', 'calendarDate', 'sleepWindowConfirmationType', 'deepSleepSeconds', 'lightSleepSeconds', 'remSleepSeconds', 'awakeSleepSeconds', 'unmeasurableSeconds', 'spo2SleepSummary', 'averageRespiration', 'lowestRespiration', 'highestRespiration', 'retro']\n",
      "['sleepStartTimestampGMT', 'sleepEndTimestampGMT', 'calendarDate', 'sleepWindowConfirmationType', 'deepSleepSeconds', 'lightSleepSeconds', 'remSleepSeconds', 'awakeSleepSeconds', 'unmeasurableSeconds', 'spo2SleepSummary', 'averageRespiration', 'lowestRespiration', 'highestRespiration', 'retro']\n",
      "['sleepStartTimestampGMT', 'sleepEndTimestampGMT', 'calendarDate', 'sleepWindowConfirmationType', 'deepSleepSeconds', 'lightSleepSeconds', 'remSleepSeconds', 'awakeSleepSeconds', 'unmeasurableSeconds', 'spo2SleepSummary', 'averageRespiration', 'lowestRespiration', 'highestRespiration', 'retro']\n",
      "['sleepStartTimestampGMT', 'sleepEndTimestampGMT', 'calendarDate', 'sleepWindowConfirmationType', 'deepSleepSeconds', 'lightSleepSeconds', 'remSleepSeconds', 'awakeSleepSeconds', 'unmeasurableSeconds', 'spo2SleepSummary', 'retro']\n",
      "['sleepStartTimestampGMT', 'sleepEndTimestampGMT', 'calendarDate', 'sleepWindowConfirmationType', 'deepSleepSeconds', 'lightSleepSeconds', 'remSleepSeconds', 'awakeSleepSeconds', 'unmeasurableSeconds', 'spo2SleepSummary', 'retro']\n",
      "['sleepStartTimestampGMT', 'sleepEndTimestampGMT', 'calendarDate', 'sleepWindowConfirmationType', 'deepSleepSeconds', 'lightSleepSeconds', 'remSleepSeconds', 'awakeSleepSeconds', 'unmeasurableSeconds', 'spo2SleepSummary', 'averageRespiration', 'lowestRespiration', 'highestRespiration', 'retro']\n",
      "['sleepStartTimestampGMT', 'sleepEndTimestampGMT', 'calendarDate', 'sleepWindowConfirmationType', 'deepSleepSeconds', 'lightSleepSeconds', 'remSleepSeconds', 'awakeSleepSeconds', 'unmeasurableSeconds', 'spo2SleepSummary', 'averageRespiration', 'lowestRespiration', 'highestRespiration', 'retro']\n",
      "['sleepStartTimestampGMT', 'sleepEndTimestampGMT', 'calendarDate', 'sleepWindowConfirmationType', 'deepSleepSeconds', 'lightSleepSeconds', 'remSleepSeconds', 'awakeSleepSeconds', 'unmeasurableSeconds', 'spo2SleepSummary', 'averageRespiration', 'lowestRespiration', 'highestRespiration', 'retro']\n",
      "['sleepStartTimestampGMT', 'sleepEndTimestampGMT', 'calendarDate', 'sleepWindowConfirmationType', 'deepSleepSeconds', 'lightSleepSeconds', 'remSleepSeconds', 'awakeSleepSeconds', 'unmeasurableSeconds', 'spo2SleepSummary', 'averageRespiration', 'lowestRespiration', 'highestRespiration', 'retro']\n",
      "['sleepStartTimestampGMT', 'sleepEndTimestampGMT', 'calendarDate', 'sleepWindowConfirmationType', 'deepSleepSeconds', 'lightSleepSeconds', 'remSleepSeconds', 'awakeSleepSeconds', 'unmeasurableSeconds', 'spo2SleepSummary', 'averageRespiration', 'lowestRespiration', 'highestRespiration', 'retro']\n",
      "['sleepStartTimestampGMT', 'sleepEndTimestampGMT', 'calendarDate', 'sleepWindowConfirmationType', 'deepSleepSeconds', 'lightSleepSeconds', 'remSleepSeconds', 'awakeSleepSeconds', 'unmeasurableSeconds', 'spo2SleepSummary', 'averageRespiration', 'lowestRespiration', 'highestRespiration', 'retro']\n",
      "['sleepStartTimestampGMT', 'sleepEndTimestampGMT', 'calendarDate', 'sleepWindowConfirmationType', 'deepSleepSeconds', 'lightSleepSeconds', 'remSleepSeconds', 'awakeSleepSeconds', 'unmeasurableSeconds', 'spo2SleepSummary', 'averageRespiration', 'lowestRespiration', 'highestRespiration', 'retro']\n",
      "['sleepStartTimestampGMT', 'sleepEndTimestampGMT', 'calendarDate', 'sleepWindowConfirmationType', 'deepSleepSeconds', 'lightSleepSeconds', 'remSleepSeconds', 'awakeSleepSeconds', 'unmeasurableSeconds', 'spo2SleepSummary', 'averageRespiration', 'lowestRespiration', 'highestRespiration', 'retro']\n",
      "['sleepStartTimestampGMT', 'sleepEndTimestampGMT', 'calendarDate', 'sleepWindowConfirmationType', 'deepSleepSeconds', 'lightSleepSeconds', 'remSleepSeconds', 'awakeSleepSeconds', 'unmeasurableSeconds', 'spo2SleepSummary', 'averageRespiration', 'lowestRespiration', 'highestRespiration', 'retro']\n",
      "['sleepStartTimestampGMT', 'sleepEndTimestampGMT', 'calendarDate', 'sleepWindowConfirmationType', 'deepSleepSeconds', 'lightSleepSeconds', 'remSleepSeconds', 'awakeSleepSeconds', 'unmeasurableSeconds', 'spo2SleepSummary', 'averageRespiration', 'lowestRespiration', 'highestRespiration', 'retro']\n",
      "['sleepStartTimestampGMT', 'sleepEndTimestampGMT', 'calendarDate', 'sleepWindowConfirmationType', 'deepSleepSeconds', 'lightSleepSeconds', 'remSleepSeconds', 'awakeSleepSeconds', 'unmeasurableSeconds', 'spo2SleepSummary', 'averageRespiration', 'lowestRespiration', 'highestRespiration', 'retro']\n",
      "['sleepStartTimestampGMT', 'sleepEndTimestampGMT', 'calendarDate', 'sleepWindowConfirmationType', 'deepSleepSeconds', 'lightSleepSeconds', 'remSleepSeconds', 'awakeSleepSeconds', 'unmeasurableSeconds', 'spo2SleepSummary', 'averageRespiration', 'lowestRespiration', 'highestRespiration', 'retro']\n",
      "['sleepStartTimestampGMT', 'sleepEndTimestampGMT', 'calendarDate', 'sleepWindowConfirmationType', 'deepSleepSeconds', 'lightSleepSeconds', 'remSleepSeconds', 'awakeSleepSeconds', 'unmeasurableSeconds', 'spo2SleepSummary', 'averageRespiration', 'lowestRespiration', 'highestRespiration', 'retro']\n",
      "['sleepStartTimestampGMT', 'sleepEndTimestampGMT', 'calendarDate', 'sleepWindowConfirmationType', 'deepSleepSeconds', 'lightSleepSeconds', 'remSleepSeconds', 'awakeSleepSeconds', 'unmeasurableSeconds', 'spo2SleepSummary', 'averageRespiration', 'lowestRespiration', 'highestRespiration', 'retro']\n",
      "['sleepStartTimestampGMT', 'sleepEndTimestampGMT', 'calendarDate', 'sleepWindowConfirmationType', 'deepSleepSeconds', 'lightSleepSeconds', 'remSleepSeconds', 'awakeSleepSeconds', 'unmeasurableSeconds', 'spo2SleepSummary', 'averageRespiration', 'lowestRespiration', 'highestRespiration', 'retro']\n",
      "['sleepStartTimestampGMT', 'sleepEndTimestampGMT', 'calendarDate', 'sleepWindowConfirmationType', 'deepSleepSeconds', 'lightSleepSeconds', 'remSleepSeconds', 'awakeSleepSeconds', 'unmeasurableSeconds', 'spo2SleepSummary', 'averageRespiration', 'lowestRespiration', 'highestRespiration', 'retro']\n",
      "['sleepStartTimestampGMT', 'sleepEndTimestampGMT', 'calendarDate', 'sleepWindowConfirmationType', 'deepSleepSeconds', 'lightSleepSeconds', 'remSleepSeconds', 'awakeSleepSeconds', 'unmeasurableSeconds', 'spo2SleepSummary', 'averageRespiration', 'lowestRespiration', 'highestRespiration', 'retro']\n",
      "['sleepStartTimestampGMT', 'sleepEndTimestampGMT', 'calendarDate', 'sleepWindowConfirmationType', 'deepSleepSeconds', 'lightSleepSeconds', 'remSleepSeconds', 'awakeSleepSeconds', 'unmeasurableSeconds', 'spo2SleepSummary', 'averageRespiration', 'lowestRespiration', 'highestRespiration', 'retro']\n",
      "['sleepStartTimestampGMT', 'sleepEndTimestampGMT', 'calendarDate', 'sleepWindowConfirmationType', 'deepSleepSeconds', 'lightSleepSeconds', 'remSleepSeconds', 'awakeSleepSeconds', 'unmeasurableSeconds', 'spo2SleepSummary', 'averageRespiration', 'lowestRespiration', 'highestRespiration', 'retro']\n",
      "['sleepStartTimestampGMT', 'sleepEndTimestampGMT', 'calendarDate', 'sleepWindowConfirmationType', 'deepSleepSeconds', 'lightSleepSeconds', 'remSleepSeconds', 'awakeSleepSeconds', 'unmeasurableSeconds', 'spo2SleepSummary', 'averageRespiration', 'lowestRespiration', 'highestRespiration', 'retro']\n",
      "['sleepStartTimestampGMT', 'sleepEndTimestampGMT', 'calendarDate', 'sleepWindowConfirmationType', 'deepSleepSeconds', 'lightSleepSeconds', 'remSleepSeconds', 'awakeSleepSeconds', 'unmeasurableSeconds', 'spo2SleepSummary', 'averageRespiration', 'lowestRespiration', 'highestRespiration', 'retro']\n",
      "['sleepStartTimestampGMT', 'sleepEndTimestampGMT', 'calendarDate', 'sleepWindowConfirmationType', 'deepSleepSeconds', 'lightSleepSeconds', 'remSleepSeconds', 'awakeSleepSeconds', 'unmeasurableSeconds', 'spo2SleepSummary', 'averageRespiration', 'lowestRespiration', 'highestRespiration', 'retro']\n",
      "['sleepStartTimestampGMT', 'sleepEndTimestampGMT', 'calendarDate', 'sleepWindowConfirmationType', 'deepSleepSeconds', 'lightSleepSeconds', 'remSleepSeconds', 'awakeSleepSeconds', 'unmeasurableSeconds', 'spo2SleepSummary', 'averageRespiration', 'lowestRespiration', 'highestRespiration', 'retro']\n",
      "['sleepStartTimestampGMT', 'sleepEndTimestampGMT', 'calendarDate', 'sleepWindowConfirmationType', 'deepSleepSeconds', 'lightSleepSeconds', 'remSleepSeconds', 'awakeSleepSeconds', 'unmeasurableSeconds', 'spo2SleepSummary', 'averageRespiration', 'lowestRespiration', 'highestRespiration', 'retro']\n",
      "['sleepStartTimestampGMT', 'sleepEndTimestampGMT', 'calendarDate', 'sleepWindowConfirmationType', 'deepSleepSeconds', 'lightSleepSeconds', 'remSleepSeconds', 'awakeSleepSeconds', 'unmeasurableSeconds', 'spo2SleepSummary', 'averageRespiration', 'lowestRespiration', 'highestRespiration', 'retro']\n",
      "['sleepStartTimestampGMT', 'sleepEndTimestampGMT', 'calendarDate', 'sleepWindowConfirmationType', 'deepSleepSeconds', 'lightSleepSeconds', 'remSleepSeconds', 'awakeSleepSeconds', 'unmeasurableSeconds', 'spo2SleepSummary', 'averageRespiration', 'lowestRespiration', 'highestRespiration', 'retro']\n",
      "['sleepStartTimestampGMT', 'sleepEndTimestampGMT', 'calendarDate', 'sleepWindowConfirmationType', 'deepSleepSeconds', 'lightSleepSeconds', 'remSleepSeconds', 'awakeSleepSeconds', 'unmeasurableSeconds', 'spo2SleepSummary', 'averageRespiration', 'lowestRespiration', 'highestRespiration', 'retro']\n",
      "['sleepStartTimestampGMT', 'sleepEndTimestampGMT', 'calendarDate', 'sleepWindowConfirmationType', 'deepSleepSeconds', 'lightSleepSeconds', 'remSleepSeconds', 'awakeSleepSeconds', 'unmeasurableSeconds', 'spo2SleepSummary', 'averageRespiration', 'lowestRespiration', 'highestRespiration', 'retro']\n",
      "['sleepStartTimestampGMT', 'sleepEndTimestampGMT', 'calendarDate', 'sleepWindowConfirmationType', 'deepSleepSeconds', 'lightSleepSeconds', 'remSleepSeconds', 'awakeSleepSeconds', 'unmeasurableSeconds', 'spo2SleepSummary', 'averageRespiration', 'lowestRespiration', 'highestRespiration', 'retro']\n",
      "['sleepStartTimestampGMT', 'sleepEndTimestampGMT', 'calendarDate', 'sleepWindowConfirmationType', 'deepSleepSeconds', 'lightSleepSeconds', 'remSleepSeconds', 'awakeSleepSeconds', 'unmeasurableSeconds', 'spo2SleepSummary', 'averageRespiration', 'lowestRespiration', 'highestRespiration', 'retro']\n",
      "['sleepStartTimestampGMT', 'sleepEndTimestampGMT', 'calendarDate', 'sleepWindowConfirmationType', 'deepSleepSeconds', 'lightSleepSeconds', 'awakeSleepSeconds', 'unmeasurableSeconds', 'spo2SleepSummary', 'retro']\n",
      "['sleepStartTimestampGMT', 'sleepEndTimestampGMT', 'calendarDate', 'sleepWindowConfirmationType', 'deepSleepSeconds', 'lightSleepSeconds', 'remSleepSeconds', 'awakeSleepSeconds', 'unmeasurableSeconds', 'spo2SleepSummary', 'averageRespiration', 'lowestRespiration', 'highestRespiration', 'retro']\n",
      "['sleepStartTimestampGMT', 'sleepEndTimestampGMT', 'calendarDate', 'sleepWindowConfirmationType', 'deepSleepSeconds', 'lightSleepSeconds', 'awakeSleepSeconds', 'unmeasurableSeconds', 'spo2SleepSummary', 'retro']\n",
      "['sleepStartTimestampGMT', 'sleepEndTimestampGMT', 'calendarDate', 'sleepWindowConfirmationType', 'deepSleepSeconds', 'lightSleepSeconds', 'remSleepSeconds', 'awakeSleepSeconds', 'unmeasurableSeconds', 'spo2SleepSummary', 'averageRespiration', 'lowestRespiration', 'highestRespiration', 'retro']\n",
      "['sleepStartTimestampGMT', 'sleepEndTimestampGMT', 'calendarDate', 'sleepWindowConfirmationType', 'deepSleepSeconds', 'lightSleepSeconds', 'remSleepSeconds', 'awakeSleepSeconds', 'unmeasurableSeconds', 'spo2SleepSummary', 'averageRespiration', 'lowestRespiration', 'highestRespiration', 'retro']\n",
      "['sleepStartTimestampGMT', 'sleepEndTimestampGMT', 'calendarDate', 'sleepWindowConfirmationType', 'deepSleepSeconds', 'lightSleepSeconds', 'remSleepSeconds', 'awakeSleepSeconds', 'unmeasurableSeconds', 'spo2SleepSummary', 'averageRespiration', 'lowestRespiration', 'highestRespiration', 'retro']\n",
      "['sleepStartTimestampGMT', 'sleepEndTimestampGMT', 'calendarDate', 'sleepWindowConfirmationType', 'deepSleepSeconds', 'lightSleepSeconds', 'remSleepSeconds', 'awakeSleepSeconds', 'unmeasurableSeconds', 'spo2SleepSummary', 'averageRespiration', 'lowestRespiration', 'highestRespiration', 'retro']\n",
      "['sleepStartTimestampGMT', 'sleepEndTimestampGMT', 'calendarDate', 'sleepWindowConfirmationType', 'deepSleepSeconds', 'lightSleepSeconds', 'remSleepSeconds', 'awakeSleepSeconds', 'unmeasurableSeconds', 'spo2SleepSummary', 'averageRespiration', 'lowestRespiration', 'highestRespiration', 'retro']\n",
      "['sleepStartTimestampGMT', 'sleepEndTimestampGMT', 'calendarDate', 'sleepWindowConfirmationType', 'deepSleepSeconds', 'lightSleepSeconds', 'remSleepSeconds', 'awakeSleepSeconds', 'unmeasurableSeconds', 'spo2SleepSummary', 'averageRespiration', 'lowestRespiration', 'highestRespiration', 'retro']\n",
      "['sleepStartTimestampGMT', 'sleepEndTimestampGMT', 'calendarDate', 'sleepWindowConfirmationType', 'deepSleepSeconds', 'lightSleepSeconds', 'remSleepSeconds', 'awakeSleepSeconds', 'unmeasurableSeconds', 'spo2SleepSummary', 'averageRespiration', 'lowestRespiration', 'highestRespiration', 'retro']\n",
      "['sleepStartTimestampGMT', 'sleepEndTimestampGMT', 'calendarDate', 'sleepWindowConfirmationType', 'deepSleepSeconds', 'lightSleepSeconds', 'remSleepSeconds', 'awakeSleepSeconds', 'unmeasurableSeconds', 'spo2SleepSummary', 'averageRespiration', 'lowestRespiration', 'highestRespiration', 'retro']\n",
      "['sleepStartTimestampGMT', 'sleepEndTimestampGMT', 'calendarDate', 'sleepWindowConfirmationType', 'deepSleepSeconds', 'lightSleepSeconds', 'remSleepSeconds', 'awakeSleepSeconds', 'unmeasurableSeconds', 'spo2SleepSummary', 'averageRespiration', 'lowestRespiration', 'highestRespiration', 'retro']\n",
      "['sleepStartTimestampGMT', 'sleepEndTimestampGMT', 'calendarDate', 'sleepWindowConfirmationType', 'deepSleepSeconds', 'lightSleepSeconds', 'remSleepSeconds', 'awakeSleepSeconds', 'unmeasurableSeconds', 'spo2SleepSummary', 'averageRespiration', 'lowestRespiration', 'highestRespiration', 'retro']\n",
      "['sleepStartTimestampGMT', 'sleepEndTimestampGMT', 'calendarDate', 'sleepWindowConfirmationType', 'deepSleepSeconds', 'lightSleepSeconds', 'remSleepSeconds', 'awakeSleepSeconds', 'unmeasurableSeconds', 'spo2SleepSummary', 'averageRespiration', 'lowestRespiration', 'highestRespiration', 'retro']\n",
      "['sleepStartTimestampGMT', 'sleepEndTimestampGMT', 'calendarDate', 'sleepWindowConfirmationType', 'deepSleepSeconds', 'lightSleepSeconds', 'remSleepSeconds', 'awakeSleepSeconds', 'unmeasurableSeconds', 'spo2SleepSummary', 'averageRespiration', 'lowestRespiration', 'highestRespiration', 'retro']\n",
      "['sleepStartTimestampGMT', 'sleepEndTimestampGMT', 'calendarDate', 'sleepWindowConfirmationType', 'deepSleepSeconds', 'lightSleepSeconds', 'remSleepSeconds', 'awakeSleepSeconds', 'unmeasurableSeconds', 'spo2SleepSummary', 'averageRespiration', 'lowestRespiration', 'highestRespiration', 'retro']\n",
      "['sleepStartTimestampGMT', 'sleepEndTimestampGMT', 'calendarDate', 'sleepWindowConfirmationType', 'deepSleepSeconds', 'lightSleepSeconds', 'remSleepSeconds', 'awakeSleepSeconds', 'unmeasurableSeconds', 'spo2SleepSummary', 'averageRespiration', 'lowestRespiration', 'highestRespiration', 'retro']\n",
      "['sleepStartTimestampGMT', 'sleepEndTimestampGMT', 'calendarDate', 'sleepWindowConfirmationType', 'deepSleepSeconds', 'lightSleepSeconds', 'remSleepSeconds', 'awakeSleepSeconds', 'unmeasurableSeconds', 'spo2SleepSummary', 'averageRespiration', 'lowestRespiration', 'highestRespiration', 'retro']\n",
      "['sleepStartTimestampGMT', 'sleepEndTimestampGMT', 'calendarDate', 'sleepWindowConfirmationType', 'deepSleepSeconds', 'lightSleepSeconds', 'remSleepSeconds', 'awakeSleepSeconds', 'unmeasurableSeconds', 'spo2SleepSummary', 'averageRespiration', 'lowestRespiration', 'highestRespiration', 'retro']\n",
      "['sleepStartTimestampGMT', 'sleepEndTimestampGMT', 'calendarDate', 'sleepWindowConfirmationType', 'deepSleepSeconds', 'lightSleepSeconds', 'awakeSleepSeconds', 'unmeasurableSeconds', 'spo2SleepSummary', 'retro']\n",
      "['sleepStartTimestampGMT', 'sleepEndTimestampGMT', 'calendarDate', 'sleepWindowConfirmationType', 'deepSleepSeconds', 'lightSleepSeconds', 'remSleepSeconds', 'awakeSleepSeconds', 'unmeasurableSeconds', 'spo2SleepSummary', 'averageRespiration', 'lowestRespiration', 'highestRespiration', 'retro']\n",
      "['sleepStartTimestampGMT', 'sleepEndTimestampGMT', 'calendarDate', 'sleepWindowConfirmationType', 'deepSleepSeconds', 'lightSleepSeconds', 'remSleepSeconds', 'awakeSleepSeconds', 'unmeasurableSeconds', 'spo2SleepSummary', 'averageRespiration', 'lowestRespiration', 'highestRespiration', 'retro']\n",
      "['sleepStartTimestampGMT', 'sleepEndTimestampGMT', 'calendarDate', 'sleepWindowConfirmationType', 'deepSleepSeconds', 'lightSleepSeconds', 'remSleepSeconds', 'awakeSleepSeconds', 'unmeasurableSeconds', 'spo2SleepSummary', 'averageRespiration', 'lowestRespiration', 'highestRespiration', 'retro']\n",
      "['sleepStartTimestampGMT', 'sleepEndTimestampGMT', 'calendarDate', 'sleepWindowConfirmationType', 'deepSleepSeconds', 'lightSleepSeconds', 'remSleepSeconds', 'awakeSleepSeconds', 'unmeasurableSeconds', 'spo2SleepSummary', 'averageRespiration', 'lowestRespiration', 'highestRespiration', 'retro']\n",
      "['sleepStartTimestampGMT', 'sleepEndTimestampGMT', 'calendarDate', 'sleepWindowConfirmationType', 'deepSleepSeconds', 'lightSleepSeconds', 'remSleepSeconds', 'awakeSleepSeconds', 'unmeasurableSeconds', 'spo2SleepSummary', 'averageRespiration', 'lowestRespiration', 'highestRespiration', 'retro']\n",
      "['sleepStartTimestampGMT', 'sleepEndTimestampGMT', 'calendarDate', 'sleepWindowConfirmationType', 'deepSleepSeconds', 'lightSleepSeconds', 'remSleepSeconds', 'awakeSleepSeconds', 'unmeasurableSeconds', 'spo2SleepSummary', 'averageRespiration', 'lowestRespiration', 'highestRespiration', 'retro']\n",
      "['sleepStartTimestampGMT', 'sleepEndTimestampGMT', 'calendarDate', 'sleepWindowConfirmationType', 'deepSleepSeconds', 'lightSleepSeconds', 'awakeSleepSeconds', 'unmeasurableSeconds', 'spo2SleepSummary', 'retro']\n",
      "['sleepStartTimestampGMT', 'sleepEndTimestampGMT', 'calendarDate', 'sleepWindowConfirmationType', 'deepSleepSeconds', 'lightSleepSeconds', 'remSleepSeconds', 'awakeSleepSeconds', 'unmeasurableSeconds', 'spo2SleepSummary', 'averageRespiration', 'lowestRespiration', 'highestRespiration', 'retro']\n",
      "['sleepStartTimestampGMT', 'sleepEndTimestampGMT', 'calendarDate', 'sleepWindowConfirmationType', 'deepSleepSeconds', 'lightSleepSeconds', 'remSleepSeconds', 'awakeSleepSeconds', 'unmeasurableSeconds', 'spo2SleepSummary', 'averageRespiration', 'lowestRespiration', 'highestRespiration', 'retro']\n",
      "['sleepStartTimestampGMT', 'sleepEndTimestampGMT', 'calendarDate', 'sleepWindowConfirmationType', 'deepSleepSeconds', 'lightSleepSeconds', 'awakeSleepSeconds', 'unmeasurableSeconds', 'spo2SleepSummary', 'retro']\n",
      "['sleepStartTimestampGMT', 'sleepEndTimestampGMT', 'calendarDate', 'sleepWindowConfirmationType', 'deepSleepSeconds', 'lightSleepSeconds', 'awakeSleepSeconds', 'unmeasurableSeconds', 'spo2SleepSummary', 'retro']\n",
      "['sleepStartTimestampGMT', 'sleepEndTimestampGMT', 'calendarDate', 'sleepWindowConfirmationType', 'deepSleepSeconds', 'lightSleepSeconds', 'remSleepSeconds', 'awakeSleepSeconds', 'unmeasurableSeconds', 'spo2SleepSummary', 'averageRespiration', 'lowestRespiration', 'highestRespiration', 'retro']\n",
      "['sleepStartTimestampGMT', 'sleepEndTimestampGMT', 'calendarDate', 'sleepWindowConfirmationType', 'deepSleepSeconds', 'lightSleepSeconds', 'remSleepSeconds', 'awakeSleepSeconds', 'unmeasurableSeconds', 'spo2SleepSummary', 'averageRespiration', 'lowestRespiration', 'highestRespiration', 'retro']\n",
      "['sleepStartTimestampGMT', 'sleepEndTimestampGMT', 'calendarDate', 'sleepWindowConfirmationType', 'deepSleepSeconds', 'lightSleepSeconds', 'remSleepSeconds', 'awakeSleepSeconds', 'unmeasurableSeconds', 'spo2SleepSummary', 'averageRespiration', 'lowestRespiration', 'highestRespiration', 'retro']\n",
      "['sleepStartTimestampGMT', 'sleepEndTimestampGMT', 'calendarDate', 'sleepWindowConfirmationType', 'deepSleepSeconds', 'lightSleepSeconds', 'remSleepSeconds', 'awakeSleepSeconds', 'unmeasurableSeconds', 'spo2SleepSummary', 'averageRespiration', 'lowestRespiration', 'highestRespiration', 'retro']\n",
      "['sleepStartTimestampGMT', 'sleepEndTimestampGMT', 'calendarDate', 'sleepWindowConfirmationType', 'deepSleepSeconds', 'lightSleepSeconds', 'remSleepSeconds', 'awakeSleepSeconds', 'unmeasurableSeconds', 'spo2SleepSummary', 'averageRespiration', 'lowestRespiration', 'highestRespiration', 'retro']\n",
      "['sleepStartTimestampGMT', 'sleepEndTimestampGMT', 'calendarDate', 'sleepWindowConfirmationType', 'deepSleepSeconds', 'lightSleepSeconds', 'remSleepSeconds', 'awakeSleepSeconds', 'unmeasurableSeconds', 'spo2SleepSummary', 'averageRespiration', 'lowestRespiration', 'highestRespiration', 'retro']\n",
      "['sleepStartTimestampGMT', 'sleepEndTimestampGMT', 'calendarDate', 'sleepWindowConfirmationType', 'deepSleepSeconds', 'lightSleepSeconds', 'remSleepSeconds', 'awakeSleepSeconds', 'unmeasurableSeconds', 'spo2SleepSummary', 'averageRespiration', 'lowestRespiration', 'highestRespiration', 'retro']\n",
      "['sleepStartTimestampGMT', 'sleepEndTimestampGMT', 'calendarDate', 'sleepWindowConfirmationType', 'deepSleepSeconds', 'lightSleepSeconds', 'remSleepSeconds', 'awakeSleepSeconds', 'unmeasurableSeconds', 'spo2SleepSummary', 'averageRespiration', 'lowestRespiration', 'highestRespiration', 'retro']\n",
      "['sleepStartTimestampGMT', 'sleepEndTimestampGMT', 'calendarDate', 'sleepWindowConfirmationType', 'deepSleepSeconds', 'lightSleepSeconds', 'remSleepSeconds', 'awakeSleepSeconds', 'unmeasurableSeconds', 'spo2SleepSummary', 'averageRespiration', 'lowestRespiration', 'highestRespiration', 'retro']\n",
      "['sleepStartTimestampGMT', 'sleepEndTimestampGMT', 'calendarDate', 'sleepWindowConfirmationType', 'deepSleepSeconds', 'lightSleepSeconds', 'remSleepSeconds', 'awakeSleepSeconds', 'unmeasurableSeconds', 'spo2SleepSummary', 'averageRespiration', 'lowestRespiration', 'highestRespiration', 'retro']\n",
      "['sleepStartTimestampGMT', 'sleepEndTimestampGMT', 'calendarDate', 'sleepWindowConfirmationType', 'deepSleepSeconds', 'lightSleepSeconds', 'remSleepSeconds', 'awakeSleepSeconds', 'unmeasurableSeconds', 'spo2SleepSummary', 'averageRespiration', 'lowestRespiration', 'highestRespiration', 'retro']\n",
      "['sleepStartTimestampGMT', 'sleepEndTimestampGMT', 'calendarDate', 'sleepWindowConfirmationType', 'deepSleepSeconds', 'lightSleepSeconds', 'remSleepSeconds', 'awakeSleepSeconds', 'unmeasurableSeconds', 'spo2SleepSummary', 'averageRespiration', 'lowestRespiration', 'highestRespiration', 'retro']\n",
      "['sleepStartTimestampGMT', 'sleepEndTimestampGMT', 'calendarDate', 'sleepWindowConfirmationType', 'deepSleepSeconds', 'lightSleepSeconds', 'remSleepSeconds', 'awakeSleepSeconds', 'unmeasurableSeconds', 'spo2SleepSummary', 'averageRespiration', 'lowestRespiration', 'highestRespiration', 'retro']\n",
      "['sleepStartTimestampGMT', 'sleepEndTimestampGMT', 'calendarDate', 'sleepWindowConfirmationType', 'deepSleepSeconds', 'lightSleepSeconds', 'remSleepSeconds', 'awakeSleepSeconds', 'unmeasurableSeconds', 'spo2SleepSummary', 'averageRespiration', 'lowestRespiration', 'highestRespiration', 'retro']\n",
      "['sleepStartTimestampGMT', 'sleepEndTimestampGMT', 'calendarDate', 'sleepWindowConfirmationType', 'deepSleepSeconds', 'lightSleepSeconds', 'remSleepSeconds', 'awakeSleepSeconds', 'unmeasurableSeconds', 'spo2SleepSummary', 'averageRespiration', 'lowestRespiration', 'highestRespiration', 'retro']\n",
      "['sleepStartTimestampGMT', 'sleepEndTimestampGMT', 'calendarDate', 'sleepWindowConfirmationType', 'deepSleepSeconds', 'lightSleepSeconds', 'remSleepSeconds', 'awakeSleepSeconds', 'unmeasurableSeconds', 'spo2SleepSummary', 'averageRespiration', 'lowestRespiration', 'highestRespiration', 'retro']\n",
      "['sleepStartTimestampGMT', 'sleepEndTimestampGMT', 'calendarDate', 'sleepWindowConfirmationType', 'deepSleepSeconds', 'lightSleepSeconds', 'remSleepSeconds', 'awakeSleepSeconds', 'unmeasurableSeconds', 'spo2SleepSummary', 'averageRespiration', 'lowestRespiration', 'highestRespiration', 'retro']\n",
      "['sleepStartTimestampGMT', 'sleepEndTimestampGMT', 'calendarDate', 'sleepWindowConfirmationType', 'deepSleepSeconds', 'lightSleepSeconds', 'remSleepSeconds', 'awakeSleepSeconds', 'unmeasurableSeconds', 'spo2SleepSummary', 'averageRespiration', 'lowestRespiration', 'highestRespiration', 'retro']\n",
      "['sleepStartTimestampGMT', 'sleepEndTimestampGMT', 'calendarDate', 'sleepWindowConfirmationType', 'deepSleepSeconds', 'lightSleepSeconds', 'remSleepSeconds', 'awakeSleepSeconds', 'unmeasurableSeconds', 'spo2SleepSummary', 'averageRespiration', 'lowestRespiration', 'highestRespiration', 'retro']\n"
     ]
    }
   ],
   "source": [
    "fname = '2024-10-03_2025-01-11_116924331_sleepData.json'\n",
    "with open(os.path.join(subdir, fname)) as f:\n",
    "    flist = json.load(f)\n",
    "\n",
    "for ls in flist:\n",
    "    print(list(ls.keys()))"
   ]
  },
  {
   "cell_type": "markdown",
   "id": "ebafaced-2f3b-4173-82d2-a0463a7ae537",
   "metadata": {},
   "source": [
    "## Sleep Data"
   ]
  },
  {
   "cell_type": "code",
   "execution_count": 14,
   "id": "dd90e7b5-d533-43f8-b30f-bacdb8f855b3",
   "metadata": {},
   "outputs": [
    {
     "name": "stdout",
     "output_type": "stream",
     "text": [
      "116924331_bioMetrics_latest.json 4 B\n",
      "116924331_heartRateZones.json 213 B\n",
      "116924331_userBioMetricProfileData.json 62 B\n",
      "116924331_userBioMetrics.json 74648 B\n",
      "2023-08-30_2023-12-08_116924331_sleepData.json 34908 B\n",
      "2023-12-08_2024-03-17_116924331_sleepData.json 57275 B\n",
      "2024-03-17_2024-06-25_116924331_sleepData.json 57596 B\n",
      "2024-06-25_2024-10-03_116924331_sleepData.json 59062 B\n",
      "2024-10-03_2025-01-11_116924331_sleepData.json 60521 B\n",
      "['2023-08-30_2023-12-08_116924331_sleepData.json', '2023-12-08_2024-03-17_116924331_sleepData.json', '2024-03-17_2024-06-25_116924331_sleepData.json', '2024-06-25_2024-10-03_116924331_sleepData.json', '2024-10-03_2025-01-11_116924331_sleepData.json']\n"
     ]
    }
   ],
   "source": [
    "subdir = os.path.join(connect_dir, 'DI-Connect-Wellness')\n",
    "files = os.listdir(subdir)\n",
    "sizes = [os.path.getsize(os.path.join(subdir,f)) for f in files]\n",
    "sleep_files = []\n",
    "for f,s in zip(files,sizes):\n",
    "    print(f,s, \"B\")\n",
    "    if 'sleepData' in f:\n",
    "        sleep_files.append(f)\n",
    "print(sleep_files)"
   ]
  },
  {
   "cell_type": "code",
   "execution_count": 17,
   "id": "2087ef83-e900-42a5-905b-c0c8435b2d41",
   "metadata": {},
   "outputs": [
    {
     "data": {
      "text/plain": [
       "str"
      ]
     },
     "execution_count": 17,
     "metadata": {},
     "output_type": "execute_result"
    }
   ],
   "source": [
    "type(files)"
   ]
  },
  {
   "cell_type": "code",
   "execution_count": 18,
   "id": "14200a19-f1cb-4eea-a7bd-1f0c3f2d0b32",
   "metadata": {
    "scrolled": true
   },
   "outputs": [],
   "source": [
    "fname = '2024-10-03_2025-01-11_116924331_sleepData.json'\n",
    "\n",
    "content_list = []\n",
    "for fname in sleep_files:\n",
    "    with open(os.path.join(subdir, fname)) as f:\n",
    "        content_list += json.load(f)"
   ]
  },
  {
   "cell_type": "code",
   "execution_count": 20,
   "id": "c5605379-c4d6-4bf3-8fa2-b325143ed960",
   "metadata": {},
   "outputs": [
    {
     "data": {
      "text/plain": [
       "('2023-10-11T04:00:00.0', '2023-10-11T12:00:00.0')"
      ]
     },
     "execution_count": 20,
     "metadata": {},
     "output_type": "execute_result"
    }
   ],
   "source": [
    "content_list[0]['sleepStartTimestampGMT'], content_list[0]['sleepEndTimestampGMT']"
   ]
  },
  {
   "cell_type": "code",
   "execution_count": 21,
   "id": "8923484d-29e0-4cf1-a186-aa7773e054d2",
   "metadata": {},
   "outputs": [
    {
     "name": "stdout",
     "output_type": "stream",
     "text": [
      "['2023-10-11', '04:00:00.0']\n",
      "['2023-10-11', '12:00:00.0']\n"
     ]
    }
   ],
   "source": [
    "sleeptimestamp = content_list[0]['sleepStartTimestampGMT']\n",
    "print(sleeptimestamp.split('T'))\n",
    "\n",
    "sleeptimestamp = content_list[0]['sleepEndTimestampGMT']\n",
    "print(sleeptimestamp.split('T'))"
   ]
  },
  {
   "cell_type": "code",
   "execution_count": null,
   "id": "298c646b-e5e2-4a52-a424-849eaf45fe73",
   "metadata": {},
   "outputs": [],
   "source": [
    "# create a dictionary of sleep data by date\n"
   ]
  }
 ],
 "metadata": {
  "kernelspec": {
   "display_name": "Python 3 (ipykernel)",
   "language": "python",
   "name": "python3"
  },
  "language_info": {
   "codemirror_mode": {
    "name": "ipython",
    "version": 3
   },
   "file_extension": ".py",
   "mimetype": "text/x-python",
   "name": "python",
   "nbconvert_exporter": "python",
   "pygments_lexer": "ipython3",
   "version": "3.13.0"
  }
 },
 "nbformat": 4,
 "nbformat_minor": 5
}
